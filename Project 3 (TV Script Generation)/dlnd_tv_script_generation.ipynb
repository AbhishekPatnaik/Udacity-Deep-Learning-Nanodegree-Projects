{
 "cells": [
  {
   "cell_type": "markdown",
   "metadata": {
    "deletable": true,
    "editable": true
   },
   "source": [
    "# TV Script Generation\n",
    "In this project, you'll generate your own [Simpsons](https://en.wikipedia.org/wiki/The_Simpsons) TV scripts using RNNs.  You'll be using part of the [Simpsons dataset](https://www.kaggle.com/wcukierski/the-simpsons-by-the-data) of scripts from 27 seasons.  The Neural Network you'll build will generate a new TV script for a scene at [Moe's Tavern](https://simpsonswiki.com/wiki/Moe's_Tavern).\n",
    "## Get the Data\n",
    "The data is already provided for you.  You'll be using a subset of the original dataset.  It consists of only the scenes in Moe's Tavern.  This doesn't include other versions of the tavern, like \"Moe's Cavern\", \"Flaming Moe's\", \"Uncle Moe's Family Feed-Bag\", etc.."
   ]
  },
  {
   "cell_type": "code",
   "execution_count": 22,
   "metadata": {
    "collapsed": false,
    "deletable": true,
    "editable": true
   },
   "outputs": [],
   "source": [
    "\"\"\"\n",
    "DON'T MODIFY ANYTHING IN THIS CELL\n",
    "\"\"\"\n",
    "import helper\n",
    "\n",
    "data_dir = './data/simpsons/moes_tavern_lines.txt'\n",
    "text = helper.load_data(data_dir)\n",
    "# Ignore notice, since we don't use it for analysing the data\n",
    "text = text[81:]"
   ]
  },
  {
   "cell_type": "markdown",
   "metadata": {
    "deletable": true,
    "editable": true
   },
   "source": [
    "## Explore the Data\n",
    "Play around with `view_sentence_range` to view different parts of the data."
   ]
  },
  {
   "cell_type": "code",
   "execution_count": 23,
   "metadata": {
    "collapsed": false,
    "deletable": true,
    "editable": true
   },
   "outputs": [
    {
     "name": "stdout",
     "output_type": "stream",
     "text": [
      "Dataset Stats\n",
      "Roughly the number of unique words: 11492\n",
      "Number of scenes: 262\n",
      "Average number of sentences in each scene: 15.248091603053435\n",
      "Number of lines: 4257\n",
      "Average number of words in each line: 11.50434578341555\n",
      "\n",
      "The sentences 0 to 10:\n",
      "Moe_Szyslak: (INTO PHONE) Moe's Tavern. Where the elite meet to drink.\n",
      "Bart_Simpson: Eh, yeah, hello, is Mike there? Last name, Rotch.\n",
      "Moe_Szyslak: (INTO PHONE) Hold on, I'll check. (TO BARFLIES) Mike Rotch. Mike Rotch. Hey, has anybody seen Mike Rotch, lately?\n",
      "Moe_Szyslak: (INTO PHONE) Listen you little puke. One of these days I'm gonna catch you, and I'm gonna carve my name on your back with an ice pick.\n",
      "Moe_Szyslak: What's the matter Homer? You're not your normal effervescent self.\n",
      "Homer_Simpson: I got my problems, Moe. Give me another one.\n",
      "Moe_Szyslak: Homer, hey, you should not drink to forget your problems.\n",
      "Barney_Gumble: Yeah, you should only drink to enhance your social skills.\n",
      "\n",
      "\n"
     ]
    }
   ],
   "source": [
    "view_sentence_range = (0, 10)\n",
    "\n",
    "\"\"\"\n",
    "DON'T MODIFY ANYTHING IN THIS CELL\n",
    "\"\"\"\n",
    "import numpy as np\n",
    "\n",
    "print('Dataset Stats')\n",
    "print('Roughly the number of unique words: {}'.format(len({word: None for word in text.split()})))\n",
    "scenes = text.split('\\n\\n')\n",
    "print('Number of scenes: {}'.format(len(scenes)))\n",
    "sentence_count_scene = [scene.count('\\n') for scene in scenes]\n",
    "print('Average number of sentences in each scene: {}'.format(np.average(sentence_count_scene)))\n",
    "\n",
    "sentences = [sentence for scene in scenes for sentence in scene.split('\\n')]\n",
    "print('Number of lines: {}'.format(len(sentences)))\n",
    "word_count_sentence = [len(sentence.split()) for sentence in sentences]\n",
    "print('Average number of words in each line: {}'.format(np.average(word_count_sentence)))\n",
    "\n",
    "print()\n",
    "print('The sentences {} to {}:'.format(*view_sentence_range))\n",
    "print('\\n'.join(text.split('\\n')[view_sentence_range[0]:view_sentence_range[1]]))"
   ]
  },
  {
   "cell_type": "markdown",
   "metadata": {
    "deletable": true,
    "editable": true
   },
   "source": [
    "## Implement Preprocessing Functions\n",
    "The first thing to do to any dataset is preprocessing.  Implement the following preprocessing functions below:\n",
    "- Lookup Table\n",
    "- Tokenize Punctuation\n",
    "\n",
    "### Lookup Table\n",
    "To create a word embedding, you first need to transform the words to ids.  In this function, create two dictionaries:\n",
    "- Dictionary to go from the words to an id, we'll call `vocab_to_int`\n",
    "- Dictionary to go from the id to word, we'll call `int_to_vocab`\n",
    "\n",
    "Return these dictionaries in the following tuple `(vocab_to_int, int_to_vocab)`"
   ]
  },
  {
   "cell_type": "code",
   "execution_count": 24,
   "metadata": {
    "collapsed": false,
    "deletable": true,
    "editable": true
   },
   "outputs": [
    {
     "name": "stdout",
     "output_type": "stream",
     "text": [
      "Tests Passed\n"
     ]
    }
   ],
   "source": [
    "import numpy as np\n",
    "import problem_unittests as tests\n",
    "\n",
    "def create_lookup_tables(text):\n",
    "    \"\"\"\n",
    "    Create lookup tables for vocabulary\n",
    "    :param text: The text of tv scripts split into words\n",
    "    :return: A tuple of dicts (vocab_to_int, int_to_vocab)\n",
    "    \"\"\"\n",
    "    # TODO: Implement Function\n",
    "    vocab = set(text)\n",
    "    vocab_to_int = {c: i for i, c in enumerate(vocab)}\n",
    "    int_to_vocab = dict(enumerate(vocab))\n",
    "\n",
    "    return vocab_to_int, int_to_vocab\n",
    "\n",
    "\n",
    "\"\"\"\n",
    "DON'T MODIFY ANYTHING IN THIS CELL THAT IS BELOW THIS LINE\n",
    "\"\"\"\n",
    "tests.test_create_lookup_tables(create_lookup_tables)"
   ]
  },
  {
   "cell_type": "markdown",
   "metadata": {
    "deletable": true,
    "editable": true
   },
   "source": [
    "### Tokenize Punctuation\n",
    "We'll be splitting the script into a word array using spaces as delimiters.  However, punctuations like periods and exclamation marks make it hard for the neural network to distinguish between the word \"bye\" and \"bye!\".\n",
    "\n",
    "Implement the function `token_lookup` to return a dict that will be used to tokenize symbols like \"!\" into \"||Exclamation_Mark||\".  Create a dictionary for the following symbols where the symbol is the key and value is the token:\n",
    "- Period ( . )\n",
    "- Comma ( , )\n",
    "- Quotation Mark ( \" )\n",
    "- Semicolon ( ; )\n",
    "- Exclamation mark ( ! )\n",
    "- Question mark ( ? )\n",
    "- Left Parentheses ( ( )\n",
    "- Right Parentheses ( ) )\n",
    "- Dash ( -- )\n",
    "- Return ( \\n )\n",
    "\n",
    "This dictionary will be used to token the symbols and add the delimiter (space) around it.  This separates the symbols as it's own word, making it easier for the neural network to predict on the next word. Make sure you don't use a token that could be confused as a word. Instead of using the token \"dash\", try using something like \"||dash||\"."
   ]
  },
  {
   "cell_type": "code",
   "execution_count": 25,
   "metadata": {
    "collapsed": false,
    "deletable": true,
    "editable": true
   },
   "outputs": [
    {
     "name": "stdout",
     "output_type": "stream",
     "text": [
      "Tests Passed\n"
     ]
    }
   ],
   "source": [
    "def token_lookup():\n",
    "    \"\"\"\n",
    "    Generate a dict to turn punctuation into a token.\n",
    "    :return: Tokenize dictionary where the key is the punctuation and the value is the token\n",
    "    \"\"\"\n",
    "    # TODO: Implement Function\n",
    "    dictionary = {'.': '||period||',\n",
    "                  ',': '||comma||',\n",
    "                  '\"': '||quotation_mark||',\n",
    "                  ';': '||semicolon||',\n",
    "                  '!': '||exclamation_mark||',\n",
    "                  '?': '||question_mark||',\n",
    "                  '(': '||left_parenthesis||',\n",
    "                  ')': '||right_parenthesis||',\n",
    "                  '--': '||dash||',\n",
    "                  '\\n': '||return||'\n",
    "                 }\n",
    "    return dictionary\n",
    "\n",
    "\"\"\"\n",
    "DON'T MODIFY ANYTHING IN THIS CELL THAT IS BELOW THIS LINE\n",
    "\"\"\"\n",
    "tests.test_tokenize(token_lookup)"
   ]
  },
  {
   "cell_type": "markdown",
   "metadata": {
    "deletable": true,
    "editable": true
   },
   "source": [
    "## Preprocess all the data and save it\n",
    "Running the code cell below will preprocess all the data and save it to file."
   ]
  },
  {
   "cell_type": "code",
   "execution_count": 26,
   "metadata": {
    "collapsed": false,
    "deletable": true,
    "editable": true
   },
   "outputs": [],
   "source": [
    "\"\"\"\n",
    "DON'T MODIFY ANYTHING IN THIS CELL\n",
    "\"\"\"\n",
    "# Preprocess Training, Validation, and Testing Data\n",
    "helper.preprocess_and_save_data(data_dir, token_lookup, create_lookup_tables)"
   ]
  },
  {
   "cell_type": "markdown",
   "metadata": {
    "deletable": true,
    "editable": true
   },
   "source": [
    "# Check Point\n",
    "This is your first checkpoint. If you ever decide to come back to this notebook or have to restart the notebook, you can start from here. The preprocessed data has been saved to disk."
   ]
  },
  {
   "cell_type": "code",
   "execution_count": 27,
   "metadata": {
    "collapsed": false,
    "deletable": true,
    "editable": true
   },
   "outputs": [],
   "source": [
    "\"\"\"\n",
    "DON'T MODIFY ANYTHING IN THIS CELL\n",
    "\"\"\"\n",
    "import helper\n",
    "import numpy as np\n",
    "import problem_unittests as tests\n",
    "\n",
    "int_text, vocab_to_int, int_to_vocab, token_dict = helper.load_preprocess()"
   ]
  },
  {
   "cell_type": "markdown",
   "metadata": {
    "deletable": true,
    "editable": true
   },
   "source": [
    "## Build the Neural Network\n",
    "You'll build the components necessary to build a RNN by implementing the following functions below:\n",
    "- get_inputs\n",
    "- get_init_cell\n",
    "- get_embed\n",
    "- build_rnn\n",
    "- build_nn\n",
    "- get_batches\n",
    "\n",
    "### Check the Version of TensorFlow and Access to GPU"
   ]
  },
  {
   "cell_type": "code",
   "execution_count": 28,
   "metadata": {
    "collapsed": false
   },
   "outputs": [
    {
     "name": "stdout",
     "output_type": "stream",
     "text": [
      "TensorFlow Version: 1.0.1\n",
      "Default GPU Device: /gpu:0\n"
     ]
    }
   ],
   "source": [
    "\"\"\"\n",
    "DON'T MODIFY ANYTHING IN THIS CELL\n",
    "\"\"\"\n",
    "from distutils.version import LooseVersion\n",
    "import warnings\n",
    "import tensorflow as tf\n",
    "\n",
    "# Check TensorFlow Version\n",
    "assert LooseVersion(tf.__version__) >= LooseVersion('1.0'), 'Please use TensorFlow version 1.0 or newer'\n",
    "print('TensorFlow Version: {}'.format(tf.__version__))\n",
    "\n",
    "# Check for a GPU\n",
    "if not tf.test.gpu_device_name():\n",
    "    warnings.warn('No GPU found. Please use a GPU to train your neural network.')\n",
    "else:\n",
    "    print('Default GPU Device: {}'.format(tf.test.gpu_device_name()))"
   ]
  },
  {
   "cell_type": "markdown",
   "metadata": {},
   "source": [
    "### Input\n",
    "Implement the `get_inputs()` function to create TF Placeholders for the Neural Network.  It should create the following placeholders:\n",
    "- Input text placeholder named \"input\" using the [TF Placeholder](https://www.tensorflow.org/api_docs/python/tf/placeholder) `name` parameter.\n",
    "- Targets placeholder\n",
    "- Learning Rate placeholder\n",
    "\n",
    "Return the placeholders in the following the tuple `(Input, Targets, LearingRate)`"
   ]
  },
  {
   "cell_type": "code",
   "execution_count": 29,
   "metadata": {
    "collapsed": false,
    "deletable": true,
    "editable": true
   },
   "outputs": [
    {
     "name": "stdout",
     "output_type": "stream",
     "text": [
      "Tests Passed\n"
     ]
    }
   ],
   "source": [
    "def get_inputs():\n",
    "    \"\"\"\n",
    "    Create TF Placeholders for input, targets, and learning rate.\n",
    "    :return: Tuple (input, targets, learning rate)\n",
    "    \"\"\"\n",
    "    # TODO: Implement Function\n",
    "    Input = tf.placeholder(tf.int32, (None, None), name='input')\n",
    "    Targets = tf.placeholder(tf.int32, (None, None))\n",
    "    LearningRate = tf.placeholder(tf.float32)\n",
    "    return (Input, Targets, LearningRate)\n",
    "\n",
    "\n",
    "\"\"\"\n",
    "DON'T MODIFY ANYTHING IN THIS CELL THAT IS BELOW THIS LINE\n",
    "\"\"\"\n",
    "tests.test_get_inputs(get_inputs)"
   ]
  },
  {
   "cell_type": "markdown",
   "metadata": {
    "deletable": true,
    "editable": true
   },
   "source": [
    "### Build RNN Cell and Initialize\n",
    "Stack one or more [`BasicLSTMCells`](https://www.tensorflow.org/api_docs/python/tf/contrib/rnn/BasicLSTMCell) in a [`MultiRNNCell`](https://www.tensorflow.org/api_docs/python/tf/contrib/rnn/MultiRNNCell).\n",
    "- The Rnn size should be set using `rnn_size`\n",
    "- Initalize Cell State using the MultiRNNCell's [`zero_state()`](https://www.tensorflow.org/api_docs/python/tf/contrib/rnn/MultiRNNCell#zero_state) function\n",
    "    - Apply the name \"initial_state\" to the initial state using [`tf.identity()`](https://www.tensorflow.org/api_docs/python/tf/identity)\n",
    "\n",
    "Return the cell and initial state in the following tuple `(Cell, InitialState)`"
   ]
  },
  {
   "cell_type": "code",
   "execution_count": 30,
   "metadata": {
    "collapsed": false,
    "deletable": true,
    "editable": true
   },
   "outputs": [
    {
     "name": "stdout",
     "output_type": "stream",
     "text": [
      "Tests Passed\n"
     ]
    }
   ],
   "source": [
    "def get_init_cell(batch_size, rnn_size):\n",
    "    \"\"\"\n",
    "    Create an RNN Cell and initialize it.\n",
    "    :param batch_size: Size of batches\n",
    "    :param rnn_size: Size of RNNs\n",
    "    :return: Tuple (cell, initialize state)\n",
    "    \"\"\"\n",
    "    # TODO: Implement Function\n",
    "    lstm1 = tf.contrib.rnn.BasicLSTMCell(rnn_size)\n",
    "    lstm2 = tf.contrib.rnn.BasicLSTMCell(rnn_size)\n",
    "    Cell = tf.contrib.rnn.MultiRNNCell([lstm1, lstm2])\n",
    "    InitialState = Cell.zero_state(batch_size, dtype=tf.int32)\n",
    "    InitialState = tf.identity(InitialState, name='initial_state')\n",
    "    return Cell, InitialState\n",
    "\n",
    "\n",
    "\"\"\"\n",
    "DON'T MODIFY ANYTHING IN THIS CELL THAT IS BELOW THIS LINE\n",
    "\"\"\"\n",
    "tests.test_get_init_cell(get_init_cell)"
   ]
  },
  {
   "cell_type": "markdown",
   "metadata": {
    "deletable": true,
    "editable": true
   },
   "source": [
    "### Word Embedding\n",
    "Apply embedding to `input_data` using TensorFlow.  Return the embedded sequence."
   ]
  },
  {
   "cell_type": "code",
   "execution_count": 31,
   "metadata": {
    "collapsed": false,
    "deletable": true,
    "editable": true
   },
   "outputs": [
    {
     "name": "stdout",
     "output_type": "stream",
     "text": [
      "Tests Passed\n"
     ]
    }
   ],
   "source": [
    "def get_embed(input_data, vocab_size, embed_dim):\n",
    "    \"\"\"\n",
    "    Create embedding for <input_data>.\n",
    "    :param input_data: TF placeholder for text input.\n",
    "    :param vocab_size: Number of words in vocabulary.\n",
    "    :param embed_dim: Number of embedding dimensions\n",
    "    :return: Embedded input.\n",
    "    \"\"\"\n",
    "    # TODO: Implement Function\n",
    "    embedding = tf.Variable(tf.random_normal([vocab_size, embed_dim], stddev=0.05))\n",
    "    embed = tf.nn.embedding_lookup(embedding, input_data)\n",
    "    return embed\n",
    "\n",
    "\n",
    "\"\"\"\n",
    "DON'T MODIFY ANYTHING IN THIS CELL THAT IS BELOW THIS LINE\n",
    "\"\"\"\n",
    "tests.test_get_embed(get_embed)"
   ]
  },
  {
   "cell_type": "markdown",
   "metadata": {
    "deletable": true,
    "editable": true
   },
   "source": [
    "### Build RNN\n",
    "You created a RNN Cell in the `get_init_cell()` function.  Time to use the cell to create a RNN.\n",
    "- Build the RNN using the [`tf.nn.dynamic_rnn()`](https://www.tensorflow.org/api_docs/python/tf/nn/dynamic_rnn)\n",
    " - Apply the name \"final_state\" to the final state using [`tf.identity()`](https://www.tensorflow.org/api_docs/python/tf/identity)\n",
    "\n",
    "Return the outputs and final_state state in the following tuple `(Outputs, FinalState)` "
   ]
  },
  {
   "cell_type": "code",
   "execution_count": 32,
   "metadata": {
    "collapsed": false,
    "deletable": true,
    "editable": true
   },
   "outputs": [
    {
     "name": "stdout",
     "output_type": "stream",
     "text": [
      "Tests Passed\n"
     ]
    }
   ],
   "source": [
    "def build_rnn(cell, inputs):\n",
    "    \"\"\"\n",
    "    Create a RNN using a RNN Cell\n",
    "    :param cell: RNN Cell\n",
    "    :param inputs: Input text data\n",
    "    :return: Tuple (Outputs, Final State)\n",
    "    \"\"\"\n",
    "    # TODO: Implement Function\n",
    "    Outputs, state = tf.nn.dynamic_rnn(cell, inputs, dtype=tf.float32)\n",
    "    FinalState = tf.identity(state, name='final_state')\n",
    "    return Outputs, FinalState\n",
    "\n",
    "\n",
    "\"\"\"\n",
    "DON'T MODIFY ANYTHING IN THIS CELL THAT IS BELOW THIS LINE\n",
    "\"\"\"\n",
    "tests.test_build_rnn(build_rnn)"
   ]
  },
  {
   "cell_type": "markdown",
   "metadata": {
    "deletable": true,
    "editable": true
   },
   "source": [
    "### Build the Neural Network\n",
    "Apply the functions you implemented above to:\n",
    "- Apply embedding to `input_data` using your `get_embed(input_data, vocab_size, embed_dim)` function.\n",
    "- Build RNN using `cell` and your `build_rnn(cell, inputs)` function.\n",
    "- Apply a fully connected layer with a linear activation and `vocab_size` as the number of outputs.\n",
    "\n",
    "Return the logits and final state in the following tuple (Logits, FinalState) "
   ]
  },
  {
   "cell_type": "code",
   "execution_count": 33,
   "metadata": {
    "collapsed": false,
    "deletable": true,
    "editable": true
   },
   "outputs": [
    {
     "name": "stdout",
     "output_type": "stream",
     "text": [
      "Tests Passed\n"
     ]
    }
   ],
   "source": [
    "def build_nn(cell, rnn_size, input_data, vocab_size):\n",
    "    \"\"\"\n",
    "    Build part of the neural network\n",
    "    :param cell: RNN cell\n",
    "    :param rnn_size: Size of rnns\n",
    "    :param input_data: Input data\n",
    "    :param vocab_size: Vocabulary size\n",
    "    :return: Tuple (Logits, FinalState)\n",
    "    \"\"\"\n",
    "    # TODO: Implement Function\n",
    "    embed = get_embed(input_data, vocab_size, rnn_size)\n",
    "    x, FinalState = build_rnn(cell, embed)\n",
    "    Logits = tf.contrib.layers.fully_connected(x, vocab_size, activation_fn=None)\n",
    "    return Logits, FinalState\n",
    "\n",
    "\n",
    "\"\"\"\n",
    "DON'T MODIFY ANYTHING IN THIS CELL THAT IS BELOW THIS LINE\n",
    "\"\"\"\n",
    "tests.test_build_nn(build_nn)"
   ]
  },
  {
   "cell_type": "markdown",
   "metadata": {
    "deletable": true,
    "editable": true
   },
   "source": [
    "### Batches\n",
    "Implement `get_batches` to create batches of input and targets using `int_text`.  The batches should be a Numpy array with the shape `(number of batches, 2, batch size, sequence length)`. Each batch contains two elements:\n",
    "- The first element is a single batch of **input** with the shape `[batch size, sequence length]`\n",
    "- The second element is a single batch of **targets** with the shape `[batch size, sequence length]`\n",
    "\n",
    "If you can't fill the last batch with enough data, drop the last batch.\n",
    "\n",
    "For exmple, `get_batches([1, 2, 3, 4, 5, 6, 7, 8, 9, 10, 11, 12, 13, 14, 15], 2, 3)` would return a Numpy array of the following:\n",
    "```\n",
    "[\n",
    "  # First Batch\n",
    "  [\n",
    "    # Batch of Input\n",
    "    [[ 1  2  3], [ 7  8  9]],\n",
    "    # Batch of targets\n",
    "    [[ 2  3  4], [ 8  9 10]]\n",
    "  ],\n",
    " \n",
    "  # Second Batch\n",
    "  [\n",
    "    # Batch of Input\n",
    "    [[ 4  5  6], [10 11 12]],\n",
    "    # Batch of targets\n",
    "    [[ 5  6  7], [11 12 13]]\n",
    "  ]\n",
    "]\n",
    "```"
   ]
  },
  {
   "cell_type": "code",
   "execution_count": 34,
   "metadata": {
    "collapsed": false,
    "deletable": true,
    "editable": true
   },
   "outputs": [
    {
     "name": "stdout",
     "output_type": "stream",
     "text": [
      "Tests Passed\n"
     ]
    }
   ],
   "source": [
    "def get_batches(int_text, batch_size, seq_length):\n",
    "    \"\"\"\n",
    "    Return batches of input and target\n",
    "    :param int_text: Text with the words replaced by their ids\n",
    "    :param batch_size: The size of batch\n",
    "    :param seq_length: The length of sequence\n",
    "    :return: Batches as a Numpy array\n",
    "    \"\"\"\n",
    "    # TODO: Implement Function\n",
    "\n",
    "    n_batches = (len(int_text)-1)//(seq_length*batch_size)\n",
    "    \n",
    "#     batch_input = []\n",
    "#     batch_target = []\n",
    "#     for x in range(0, len(int_text), seq_length):\n",
    "#         input_seq = int_text[x:x+seq_length]\n",
    "#         target_seq = int_text[x+1:x+seq_length+1]\n",
    "#         batch_input.append(input_seq)\n",
    "#         batch_target.append(target_seq)\n",
    "    \n",
    "#     full = []\n",
    "#     for y in range(0, n_batches):\n",
    "#         batch = []\n",
    "#         inputs = []\n",
    "#         targets = []\n",
    "#         for z in range(batch_size):\n",
    "#             inputs.append(batch_input[y+2*z])\n",
    "#             targets.append(batch_target[y+1+2*z])\n",
    "#         batch.append(inputs)\n",
    "#         batch.append(targets)\n",
    "#         full.append(batch)\n",
    "#     return np.array(full)\n",
    "\n",
    "    n_batches = len(int_text) // (batch_size * seq_length)\n",
    "    xdata = np.array(int_text[: n_batches * batch_size * seq_length])\n",
    "    ydata = np.array(int_text[1: n_batches * batch_size * seq_length + 1])\n",
    "    x_batches = np.split(xdata.reshape(batch_size, -1), n_batches, 1)\n",
    "    y_batches = np.split(ydata.reshape(batch_size, -1), n_batches, 1)\n",
    "\n",
    "    batches = np.array(list(zip(x_batches,y_batches)))\n",
    "    \n",
    "    return batches\n",
    "\n",
    "\n",
    "\"\"\"\n",
    "DON'T MODIFY ANYTHING IN THIS CELL THAT IS BELOW THIS LINE\n",
    "\"\"\"\n",
    "tests.test_get_batches(get_batches)"
   ]
  },
  {
   "cell_type": "markdown",
   "metadata": {
    "deletable": true,
    "editable": true
   },
   "source": [
    "## Neural Network Training\n",
    "### Hyperparameters\n",
    "Tune the following parameters:\n",
    "\n",
    "- Set `num_epochs` to the number of epochs.\n",
    "- Set `batch_size` to the batch size.\n",
    "- Set `rnn_size` to the size of the RNNs.\n",
    "- Set `seq_length` to the length of sequence.\n",
    "- Set `learning_rate` to the learning rate.\n",
    "- Set `show_every_n_batches` to the number of batches the neural network should print progress."
   ]
  },
  {
   "cell_type": "code",
   "execution_count": 35,
   "metadata": {
    "collapsed": true,
    "deletable": true,
    "editable": true
   },
   "outputs": [],
   "source": [
    "# Number of Epochs\n",
    "num_epochs = 80\n",
    "# Batch Size\n",
    "batch_size = 128\n",
    "# RNN Size\n",
    "rnn_size = 256\n",
    "# Sequence Length\n",
    "seq_length = 10\n",
    "# Learning Rate\n",
    "learning_rate = 0.01\n",
    "# Show stats for every n number of batches\n",
    "show_every_n_batches = 10\n",
    "\n",
    "\"\"\"\n",
    "DON'T MODIFY ANYTHING IN THIS CELL THAT IS BELOW THIS LINE\n",
    "\"\"\"\n",
    "save_dir = './save'"
   ]
  },
  {
   "cell_type": "markdown",
   "metadata": {
    "deletable": true,
    "editable": true
   },
   "source": [
    "### Build the Graph\n",
    "Build the graph using the neural network you implemented."
   ]
  },
  {
   "cell_type": "code",
   "execution_count": 36,
   "metadata": {
    "collapsed": false,
    "deletable": true,
    "editable": true
   },
   "outputs": [],
   "source": [
    "\"\"\"\n",
    "DON'T MODIFY ANYTHING IN THIS CELL\n",
    "\"\"\"\n",
    "from tensorflow.contrib import seq2seq\n",
    "\n",
    "train_graph = tf.Graph()\n",
    "with train_graph.as_default():\n",
    "    vocab_size = len(int_to_vocab)\n",
    "    input_text, targets, lr = get_inputs()\n",
    "    input_data_shape = tf.shape(input_text)\n",
    "    cell, initial_state = get_init_cell(input_data_shape[0], rnn_size)\n",
    "    logits, final_state = build_nn(cell, rnn_size, input_text, vocab_size)\n",
    "\n",
    "    # Probabilities for generating words\n",
    "    probs = tf.nn.softmax(logits, name='probs')\n",
    "\n",
    "    # Loss function\n",
    "    cost = seq2seq.sequence_loss(\n",
    "        logits,\n",
    "        targets,\n",
    "        tf.ones([input_data_shape[0], input_data_shape[1]]))\n",
    "\n",
    "    # Optimizer\n",
    "    optimizer = tf.train.AdamOptimizer(lr)\n",
    "\n",
    "    # Gradient Clipping\n",
    "    gradients = optimizer.compute_gradients(cost)\n",
    "    capped_gradients = [(tf.clip_by_value(grad, -1, 1), var) for grad, var in gradients]\n",
    "    train_op = optimizer.apply_gradients(capped_gradients)"
   ]
  },
  {
   "cell_type": "markdown",
   "metadata": {
    "deletable": true,
    "editable": true
   },
   "source": [
    "## Train\n",
    "Train the neural network on the preprocessed data.  If you have a hard time getting a good loss, check the [forms](https://discussions.udacity.com/) to see if anyone is having the same problem."
   ]
  },
  {
   "cell_type": "code",
   "execution_count": 37,
   "metadata": {
    "collapsed": false,
    "deletable": true,
    "editable": true
   },
   "outputs": [
    {
     "name": "stdout",
     "output_type": "stream",
     "text": [
      "Epoch   0 Batch    0/53   train_loss = 8.822\n",
      "Epoch   0 Batch   10/53   train_loss = 7.111\n",
      "Epoch   0 Batch   20/53   train_loss = 7.359\n",
      "Epoch   0 Batch   30/53   train_loss = 6.891\n",
      "Epoch   0 Batch   40/53   train_loss = 6.794\n",
      "Epoch   0 Batch   50/53   train_loss = 6.420\n",
      "Epoch   1 Batch    7/53   train_loss = 6.333\n",
      "Epoch   1 Batch   17/53   train_loss = 6.162\n",
      "Epoch   1 Batch   27/53   train_loss = 5.974\n",
      "Epoch   1 Batch   37/53   train_loss = 5.581\n",
      "Epoch   1 Batch   47/53   train_loss = 5.482\n",
      "Epoch   2 Batch    4/53   train_loss = 5.289\n",
      "Epoch   2 Batch   14/53   train_loss = 5.323\n",
      "Epoch   2 Batch   24/53   train_loss = 5.239\n",
      "Epoch   2 Batch   34/53   train_loss = 5.120\n",
      "Epoch   2 Batch   44/53   train_loss = 5.061\n",
      "Epoch   3 Batch    1/53   train_loss = 5.045\n",
      "Epoch   3 Batch   11/53   train_loss = 4.921\n",
      "Epoch   3 Batch   21/53   train_loss = 5.113\n",
      "Epoch   3 Batch   31/53   train_loss = 4.744\n",
      "Epoch   3 Batch   41/53   train_loss = 4.744\n",
      "Epoch   3 Batch   51/53   train_loss = 4.848\n",
      "Epoch   4 Batch    8/53   train_loss = 4.717\n",
      "Epoch   4 Batch   18/53   train_loss = 4.824\n",
      "Epoch   4 Batch   28/53   train_loss = 4.612\n",
      "Epoch   4 Batch   38/53   train_loss = 4.575\n",
      "Epoch   4 Batch   48/53   train_loss = 4.756\n",
      "Epoch   5 Batch    5/53   train_loss = 4.637\n",
      "Epoch   5 Batch   15/53   train_loss = 4.664\n",
      "Epoch   5 Batch   25/53   train_loss = 4.666\n",
      "Epoch   5 Batch   35/53   train_loss = 4.477\n",
      "Epoch   5 Batch   45/53   train_loss = 4.344\n",
      "Epoch   6 Batch    2/53   train_loss = 4.427\n",
      "Epoch   6 Batch   12/53   train_loss = 4.402\n",
      "Epoch   6 Batch   22/53   train_loss = 4.384\n",
      "Epoch   6 Batch   32/53   train_loss = 4.393\n",
      "Epoch   6 Batch   42/53   train_loss = 4.405\n",
      "Epoch   6 Batch   52/53   train_loss = 4.260\n",
      "Epoch   7 Batch    9/53   train_loss = 4.442\n",
      "Epoch   7 Batch   19/53   train_loss = 4.116\n",
      "Epoch   7 Batch   29/53   train_loss = 4.363\n",
      "Epoch   7 Batch   39/53   train_loss = 4.251\n",
      "Epoch   7 Batch   49/53   train_loss = 4.195\n",
      "Epoch   8 Batch    6/53   train_loss = 4.159\n",
      "Epoch   8 Batch   16/53   train_loss = 4.142\n",
      "Epoch   8 Batch   26/53   train_loss = 4.308\n",
      "Epoch   8 Batch   36/53   train_loss = 4.087\n",
      "Epoch   8 Batch   46/53   train_loss = 4.129\n",
      "Epoch   9 Batch    3/53   train_loss = 4.066\n",
      "Epoch   9 Batch   13/53   train_loss = 4.079\n",
      "Epoch   9 Batch   23/53   train_loss = 4.162\n",
      "Epoch   9 Batch   33/53   train_loss = 4.046\n",
      "Epoch   9 Batch   43/53   train_loss = 3.961\n",
      "Epoch  10 Batch    0/53   train_loss = 4.101\n",
      "Epoch  10 Batch   10/53   train_loss = 3.951\n",
      "Epoch  10 Batch   20/53   train_loss = 4.089\n",
      "Epoch  10 Batch   30/53   train_loss = 4.017\n",
      "Epoch  10 Batch   40/53   train_loss = 4.030\n",
      "Epoch  10 Batch   50/53   train_loss = 4.004\n",
      "Epoch  11 Batch    7/53   train_loss = 4.034\n",
      "Epoch  11 Batch   17/53   train_loss = 3.861\n",
      "Epoch  11 Batch   27/53   train_loss = 3.875\n",
      "Epoch  11 Batch   37/53   train_loss = 3.729\n",
      "Epoch  11 Batch   47/53   train_loss = 3.792\n",
      "Epoch  12 Batch    4/53   train_loss = 3.828\n",
      "Epoch  12 Batch   14/53   train_loss = 3.790\n",
      "Epoch  12 Batch   24/53   train_loss = 3.671\n",
      "Epoch  12 Batch   34/53   train_loss = 3.655\n",
      "Epoch  12 Batch   44/53   train_loss = 3.717\n",
      "Epoch  13 Batch    1/53   train_loss = 3.641\n",
      "Epoch  13 Batch   11/53   train_loss = 3.568\n",
      "Epoch  13 Batch   21/53   train_loss = 3.690\n",
      "Epoch  13 Batch   31/53   train_loss = 3.581\n",
      "Epoch  13 Batch   41/53   train_loss = 3.481\n",
      "Epoch  13 Batch   51/53   train_loss = 3.598\n",
      "Epoch  14 Batch    8/53   train_loss = 3.611\n",
      "Epoch  14 Batch   18/53   train_loss = 3.478\n",
      "Epoch  14 Batch   28/53   train_loss = 3.367\n",
      "Epoch  14 Batch   38/53   train_loss = 3.474\n",
      "Epoch  14 Batch   48/53   train_loss = 3.455\n",
      "Epoch  15 Batch    5/53   train_loss = 3.405\n",
      "Epoch  15 Batch   15/53   train_loss = 3.447\n",
      "Epoch  15 Batch   25/53   train_loss = 3.484\n",
      "Epoch  15 Batch   35/53   train_loss = 3.341\n",
      "Epoch  15 Batch   45/53   train_loss = 3.248\n",
      "Epoch  16 Batch    2/53   train_loss = 3.324\n",
      "Epoch  16 Batch   12/53   train_loss = 3.176\n",
      "Epoch  16 Batch   22/53   train_loss = 3.253\n",
      "Epoch  16 Batch   32/53   train_loss = 3.197\n",
      "Epoch  16 Batch   42/53   train_loss = 3.165\n",
      "Epoch  16 Batch   52/53   train_loss = 3.226\n",
      "Epoch  17 Batch    9/53   train_loss = 3.159\n",
      "Epoch  17 Batch   19/53   train_loss = 3.119\n",
      "Epoch  17 Batch   29/53   train_loss = 3.195\n",
      "Epoch  17 Batch   39/53   train_loss = 3.089\n",
      "Epoch  17 Batch   49/53   train_loss = 3.026\n",
      "Epoch  18 Batch    6/53   train_loss = 3.021\n",
      "Epoch  18 Batch   16/53   train_loss = 3.044\n",
      "Epoch  18 Batch   26/53   train_loss = 3.051\n",
      "Epoch  18 Batch   36/53   train_loss = 3.071\n",
      "Epoch  18 Batch   46/53   train_loss = 3.083\n",
      "Epoch  19 Batch    3/53   train_loss = 2.971\n",
      "Epoch  19 Batch   13/53   train_loss = 2.987\n",
      "Epoch  19 Batch   23/53   train_loss = 3.000\n",
      "Epoch  19 Batch   33/53   train_loss = 3.018\n",
      "Epoch  19 Batch   43/53   train_loss = 2.922\n",
      "Epoch  20 Batch    0/53   train_loss = 2.897\n",
      "Epoch  20 Batch   10/53   train_loss = 2.805\n",
      "Epoch  20 Batch   20/53   train_loss = 2.872\n",
      "Epoch  20 Batch   30/53   train_loss = 2.881\n",
      "Epoch  20 Batch   40/53   train_loss = 2.964\n",
      "Epoch  20 Batch   50/53   train_loss = 2.822\n",
      "Epoch  21 Batch    7/53   train_loss = 2.908\n",
      "Epoch  21 Batch   17/53   train_loss = 2.711\n",
      "Epoch  21 Batch   27/53   train_loss = 2.774\n",
      "Epoch  21 Batch   37/53   train_loss = 2.771\n",
      "Epoch  21 Batch   47/53   train_loss = 2.806\n",
      "Epoch  22 Batch    4/53   train_loss = 2.729\n",
      "Epoch  22 Batch   14/53   train_loss = 2.645\n",
      "Epoch  22 Batch   24/53   train_loss = 2.573\n",
      "Epoch  22 Batch   34/53   train_loss = 2.610\n",
      "Epoch  22 Batch   44/53   train_loss = 2.730\n",
      "Epoch  23 Batch    1/53   train_loss = 2.452\n",
      "Epoch  23 Batch   11/53   train_loss = 2.581\n",
      "Epoch  23 Batch   21/53   train_loss = 2.458\n",
      "Epoch  23 Batch   31/53   train_loss = 2.555\n",
      "Epoch  23 Batch   41/53   train_loss = 2.532\n",
      "Epoch  23 Batch   51/53   train_loss = 2.534\n",
      "Epoch  24 Batch    8/53   train_loss = 2.501\n",
      "Epoch  24 Batch   18/53   train_loss = 2.513\n",
      "Epoch  24 Batch   28/53   train_loss = 2.403\n",
      "Epoch  24 Batch   38/53   train_loss = 2.468\n",
      "Epoch  24 Batch   48/53   train_loss = 2.441\n",
      "Epoch  25 Batch    5/53   train_loss = 2.464\n",
      "Epoch  25 Batch   15/53   train_loss = 2.404\n",
      "Epoch  25 Batch   25/53   train_loss = 2.517\n",
      "Epoch  25 Batch   35/53   train_loss = 2.285\n",
      "Epoch  25 Batch   45/53   train_loss = 2.427\n",
      "Epoch  26 Batch    2/53   train_loss = 2.468\n",
      "Epoch  26 Batch   12/53   train_loss = 2.251\n",
      "Epoch  26 Batch   22/53   train_loss = 2.309\n",
      "Epoch  26 Batch   32/53   train_loss = 2.217\n",
      "Epoch  26 Batch   42/53   train_loss = 2.252\n",
      "Epoch  26 Batch   52/53   train_loss = 2.420\n",
      "Epoch  27 Batch    9/53   train_loss = 2.206\n",
      "Epoch  27 Batch   19/53   train_loss = 2.334\n",
      "Epoch  27 Batch   29/53   train_loss = 2.213\n",
      "Epoch  27 Batch   39/53   train_loss = 2.121\n",
      "Epoch  27 Batch   49/53   train_loss = 2.177\n",
      "Epoch  28 Batch    6/53   train_loss = 2.221\n",
      "Epoch  28 Batch   16/53   train_loss = 2.184\n",
      "Epoch  28 Batch   26/53   train_loss = 2.042\n",
      "Epoch  28 Batch   36/53   train_loss = 2.190\n",
      "Epoch  28 Batch   46/53   train_loss = 2.195\n",
      "Epoch  29 Batch    3/53   train_loss = 2.125\n",
      "Epoch  29 Batch   13/53   train_loss = 2.159\n",
      "Epoch  29 Batch   23/53   train_loss = 2.118\n",
      "Epoch  29 Batch   33/53   train_loss = 2.067\n",
      "Epoch  29 Batch   43/53   train_loss = 2.066\n",
      "Epoch  30 Batch    0/53   train_loss = 2.068\n",
      "Epoch  30 Batch   10/53   train_loss = 1.931\n",
      "Epoch  30 Batch   20/53   train_loss = 2.044\n",
      "Epoch  30 Batch   30/53   train_loss = 1.970\n",
      "Epoch  30 Batch   40/53   train_loss = 1.961\n",
      "Epoch  30 Batch   50/53   train_loss = 2.000\n",
      "Epoch  31 Batch    7/53   train_loss = 2.001\n",
      "Epoch  31 Batch   17/53   train_loss = 1.900\n",
      "Epoch  31 Batch   27/53   train_loss = 1.947\n",
      "Epoch  31 Batch   37/53   train_loss = 1.914\n",
      "Epoch  31 Batch   47/53   train_loss = 1.936\n",
      "Epoch  32 Batch    4/53   train_loss = 1.934\n",
      "Epoch  32 Batch   14/53   train_loss = 1.873\n",
      "Epoch  32 Batch   24/53   train_loss = 1.792\n",
      "Epoch  32 Batch   34/53   train_loss = 1.837\n",
      "Epoch  32 Batch   44/53   train_loss = 1.945\n",
      "Epoch  33 Batch    1/53   train_loss = 1.733\n",
      "Epoch  33 Batch   11/53   train_loss = 1.863\n",
      "Epoch  33 Batch   21/53   train_loss = 1.689\n",
      "Epoch  33 Batch   31/53   train_loss = 1.786\n",
      "Epoch  33 Batch   41/53   train_loss = 1.766\n",
      "Epoch  33 Batch   51/53   train_loss = 1.720\n",
      "Epoch  34 Batch    8/53   train_loss = 1.722\n",
      "Epoch  34 Batch   18/53   train_loss = 1.742\n",
      "Epoch  34 Batch   28/53   train_loss = 1.780\n",
      "Epoch  34 Batch   38/53   train_loss = 1.759\n",
      "Epoch  34 Batch   48/53   train_loss = 1.661\n",
      "Epoch  35 Batch    5/53   train_loss = 1.816\n",
      "Epoch  35 Batch   15/53   train_loss = 1.703\n",
      "Epoch  35 Batch   25/53   train_loss = 1.819\n",
      "Epoch  35 Batch   35/53   train_loss = 1.646\n",
      "Epoch  35 Batch   45/53   train_loss = 1.699\n",
      "Epoch  36 Batch    2/53   train_loss = 1.756\n",
      "Epoch  36 Batch   12/53   train_loss = 1.597\n",
      "Epoch  36 Batch   22/53   train_loss = 1.649\n",
      "Epoch  36 Batch   32/53   train_loss = 1.536\n",
      "Epoch  36 Batch   42/53   train_loss = 1.556\n",
      "Epoch  36 Batch   52/53   train_loss = 1.737\n",
      "Epoch  37 Batch    9/53   train_loss = 1.531\n",
      "Epoch  37 Batch   19/53   train_loss = 1.637\n",
      "Epoch  37 Batch   29/53   train_loss = 1.589\n",
      "Epoch  37 Batch   39/53   train_loss = 1.476\n",
      "Epoch  37 Batch   49/53   train_loss = 1.532\n",
      "Epoch  38 Batch    6/53   train_loss = 1.606\n",
      "Epoch  38 Batch   16/53   train_loss = 1.504\n",
      "Epoch  38 Batch   26/53   train_loss = 1.419\n",
      "Epoch  38 Batch   36/53   train_loss = 1.554\n",
      "Epoch  38 Batch   46/53   train_loss = 1.517\n",
      "Epoch  39 Batch    3/53   train_loss = 1.505\n",
      "Epoch  39 Batch   13/53   train_loss = 1.534\n",
      "Epoch  39 Batch   23/53   train_loss = 1.476\n",
      "Epoch  39 Batch   33/53   train_loss = 1.466\n",
      "Epoch  39 Batch   43/53   train_loss = 1.456\n",
      "Epoch  40 Batch    0/53   train_loss = 1.469\n",
      "Epoch  40 Batch   10/53   train_loss = 1.352\n",
      "Epoch  40 Batch   20/53   train_loss = 1.457\n",
      "Epoch  40 Batch   30/53   train_loss = 1.471\n",
      "Epoch  40 Batch   40/53   train_loss = 1.351\n",
      "Epoch  40 Batch   50/53   train_loss = 1.394\n",
      "Epoch  41 Batch    7/53   train_loss = 1.382\n",
      "Epoch  41 Batch   17/53   train_loss = 1.323\n",
      "Epoch  41 Batch   27/53   train_loss = 1.398\n",
      "Epoch  41 Batch   37/53   train_loss = 1.381\n",
      "Epoch  41 Batch   47/53   train_loss = 1.332\n",
      "Epoch  42 Batch    4/53   train_loss = 1.438\n",
      "Epoch  42 Batch   14/53   train_loss = 1.326\n",
      "Epoch  42 Batch   24/53   train_loss = 1.263\n",
      "Epoch  42 Batch   34/53   train_loss = 1.283\n",
      "Epoch  42 Batch   44/53   train_loss = 1.393\n",
      "Epoch  43 Batch    1/53   train_loss = 1.262\n",
      "Epoch  43 Batch   11/53   train_loss = 1.407\n",
      "Epoch  43 Batch   21/53   train_loss = 1.208\n",
      "Epoch  43 Batch   31/53   train_loss = 1.292\n",
      "Epoch  43 Batch   41/53   train_loss = 1.235\n",
      "Epoch  43 Batch   51/53   train_loss = 1.206\n",
      "Epoch  44 Batch    8/53   train_loss = 1.237\n",
      "Epoch  44 Batch   18/53   train_loss = 1.318\n",
      "Epoch  44 Batch   28/53   train_loss = 1.303\n",
      "Epoch  44 Batch   38/53   train_loss = 1.321\n",
      "Epoch  44 Batch   48/53   train_loss = 1.190\n",
      "Epoch  45 Batch    5/53   train_loss = 1.304\n",
      "Epoch  45 Batch   15/53   train_loss = 1.243\n",
      "Epoch  45 Batch   25/53   train_loss = 1.391\n",
      "Epoch  45 Batch   35/53   train_loss = 1.226\n",
      "Epoch  45 Batch   45/53   train_loss = 1.239\n",
      "Epoch  46 Batch    2/53   train_loss = 1.305\n",
      "Epoch  46 Batch   12/53   train_loss = 1.135\n",
      "Epoch  46 Batch   22/53   train_loss = 1.229\n",
      "Epoch  46 Batch   32/53   train_loss = 1.137\n",
      "Epoch  46 Batch   42/53   train_loss = 1.170\n",
      "Epoch  46 Batch   52/53   train_loss = 1.282\n",
      "Epoch  47 Batch    9/53   train_loss = 1.109\n",
      "Epoch  47 Batch   19/53   train_loss = 1.261\n",
      "Epoch  47 Batch   29/53   train_loss = 1.200\n",
      "Epoch  47 Batch   39/53   train_loss = 1.124\n",
      "Epoch  47 Batch   49/53   train_loss = 1.125\n",
      "Epoch  48 Batch    6/53   train_loss = 1.151\n",
      "Epoch  48 Batch   16/53   train_loss = 1.120\n",
      "Epoch  48 Batch   26/53   train_loss = 1.044\n",
      "Epoch  48 Batch   36/53   train_loss = 1.172\n",
      "Epoch  48 Batch   46/53   train_loss = 1.147\n",
      "Epoch  49 Batch    3/53   train_loss = 1.116\n",
      "Epoch  49 Batch   13/53   train_loss = 1.108\n",
      "Epoch  49 Batch   23/53   train_loss = 1.103\n",
      "Epoch  49 Batch   33/53   train_loss = 1.134\n",
      "Epoch  49 Batch   43/53   train_loss = 1.116\n",
      "Epoch  50 Batch    0/53   train_loss = 1.078\n",
      "Epoch  50 Batch   10/53   train_loss = 1.035\n",
      "Epoch  50 Batch   20/53   train_loss = 1.099\n",
      "Epoch  50 Batch   30/53   train_loss = 1.129\n",
      "Epoch  50 Batch   40/53   train_loss = 1.066\n",
      "Epoch  50 Batch   50/53   train_loss = 1.031\n",
      "Epoch  51 Batch    7/53   train_loss = 1.020\n",
      "Epoch  51 Batch   17/53   train_loss = 0.999\n",
      "Epoch  51 Batch   27/53   train_loss = 1.119\n",
      "Epoch  51 Batch   37/53   train_loss = 1.090\n",
      "Epoch  51 Batch   47/53   train_loss = 1.021\n",
      "Epoch  52 Batch    4/53   train_loss = 1.066\n",
      "Epoch  52 Batch   14/53   train_loss = 1.023\n",
      "Epoch  52 Batch   24/53   train_loss = 1.038\n",
      "Epoch  52 Batch   34/53   train_loss = 1.043\n",
      "Epoch  52 Batch   44/53   train_loss = 1.146\n",
      "Epoch  53 Batch    1/53   train_loss = 1.009\n",
      "Epoch  53 Batch   11/53   train_loss = 1.095\n",
      "Epoch  53 Batch   21/53   train_loss = 0.997\n",
      "Epoch  53 Batch   31/53   train_loss = 1.033\n",
      "Epoch  53 Batch   41/53   train_loss = 1.037\n",
      "Epoch  53 Batch   51/53   train_loss = 0.975\n",
      "Epoch  54 Batch    8/53   train_loss = 0.974\n",
      "Epoch  54 Batch   18/53   train_loss = 1.005\n",
      "Epoch  54 Batch   28/53   train_loss = 1.076\n",
      "Epoch  54 Batch   38/53   train_loss = 1.074\n",
      "Epoch  54 Batch   48/53   train_loss = 0.971\n",
      "Epoch  55 Batch    5/53   train_loss = 1.049\n",
      "Epoch  55 Batch   15/53   train_loss = 1.000\n",
      "Epoch  55 Batch   25/53   train_loss = 1.095\n",
      "Epoch  55 Batch   35/53   train_loss = 0.977\n",
      "Epoch  55 Batch   45/53   train_loss = 0.993\n",
      "Epoch  56 Batch    2/53   train_loss = 1.022\n",
      "Epoch  56 Batch   12/53   train_loss = 0.922\n",
      "Epoch  56 Batch   22/53   train_loss = 0.973\n",
      "Epoch  56 Batch   32/53   train_loss = 0.946\n",
      "Epoch  56 Batch   42/53   train_loss = 0.955\n",
      "Epoch  56 Batch   52/53   train_loss = 1.053\n",
      "Epoch  57 Batch    9/53   train_loss = 0.874\n",
      "Epoch  57 Batch   19/53   train_loss = 1.012\n",
      "Epoch  57 Batch   29/53   train_loss = 0.967\n",
      "Epoch  57 Batch   39/53   train_loss = 0.953\n",
      "Epoch  57 Batch   49/53   train_loss = 0.940\n",
      "Epoch  58 Batch    6/53   train_loss = 0.943\n",
      "Epoch  58 Batch   16/53   train_loss = 0.901\n",
      "Epoch  58 Batch   26/53   train_loss = 0.858\n",
      "Epoch  58 Batch   36/53   train_loss = 1.001\n",
      "Epoch  58 Batch   46/53   train_loss = 0.909\n",
      "Epoch  59 Batch    3/53   train_loss = 0.908\n",
      "Epoch  59 Batch   13/53   train_loss = 0.935\n",
      "Epoch  59 Batch   23/53   train_loss = 0.882\n",
      "Epoch  59 Batch   33/53   train_loss = 0.940\n",
      "Epoch  59 Batch   43/53   train_loss = 0.924\n",
      "Epoch  60 Batch    0/53   train_loss = 0.948\n",
      "Epoch  60 Batch   10/53   train_loss = 0.879\n",
      "Epoch  60 Batch   20/53   train_loss = 0.907\n",
      "Epoch  60 Batch   30/53   train_loss = 0.945\n",
      "Epoch  60 Batch   40/53   train_loss = 0.898\n",
      "Epoch  60 Batch   50/53   train_loss = 0.849\n",
      "Epoch  61 Batch    7/53   train_loss = 0.873\n",
      "Epoch  61 Batch   17/53   train_loss = 0.787\n",
      "Epoch  61 Batch   27/53   train_loss = 0.939\n",
      "Epoch  61 Batch   37/53   train_loss = 0.918\n",
      "Epoch  61 Batch   47/53   train_loss = 0.866\n",
      "Epoch  62 Batch    4/53   train_loss = 0.925\n",
      "Epoch  62 Batch   14/53   train_loss = 0.854\n",
      "Epoch  62 Batch   24/53   train_loss = 0.792\n",
      "Epoch  62 Batch   34/53   train_loss = 0.907\n",
      "Epoch  62 Batch   44/53   train_loss = 0.882\n",
      "Epoch  63 Batch    1/53   train_loss = 0.784\n",
      "Epoch  63 Batch   11/53   train_loss = 0.873\n",
      "Epoch  63 Batch   21/53   train_loss = 0.761\n",
      "Epoch  63 Batch   31/53   train_loss = 0.862\n",
      "Epoch  63 Batch   41/53   train_loss = 0.878\n",
      "Epoch  63 Batch   51/53   train_loss = 0.783\n",
      "Epoch  64 Batch    8/53   train_loss = 0.801\n",
      "Epoch  64 Batch   18/53   train_loss = 0.842\n",
      "Epoch  64 Batch   28/53   train_loss = 0.863\n",
      "Epoch  64 Batch   38/53   train_loss = 0.902\n",
      "Epoch  64 Batch   48/53   train_loss = 0.820\n",
      "Epoch  65 Batch    5/53   train_loss = 0.890\n",
      "Epoch  65 Batch   15/53   train_loss = 0.809\n",
      "Epoch  65 Batch   25/53   train_loss = 0.848\n",
      "Epoch  65 Batch   35/53   train_loss = 0.814\n",
      "Epoch  65 Batch   45/53   train_loss = 0.821\n",
      "Epoch  66 Batch    2/53   train_loss = 0.836\n",
      "Epoch  66 Batch   12/53   train_loss = 0.798\n",
      "Epoch  66 Batch   22/53   train_loss = 0.822\n",
      "Epoch  66 Batch   32/53   train_loss = 0.778\n",
      "Epoch  66 Batch   42/53   train_loss = 0.800\n",
      "Epoch  66 Batch   52/53   train_loss = 0.900\n",
      "Epoch  67 Batch    9/53   train_loss = 0.756\n",
      "Epoch  67 Batch   19/53   train_loss = 0.805\n",
      "Epoch  67 Batch   29/53   train_loss = 0.799\n",
      "Epoch  67 Batch   39/53   train_loss = 0.786\n",
      "Epoch  67 Batch   49/53   train_loss = 0.791\n",
      "Epoch  68 Batch    6/53   train_loss = 0.763\n",
      "Epoch  68 Batch   16/53   train_loss = 0.755\n",
      "Epoch  68 Batch   26/53   train_loss = 0.688\n",
      "Epoch  68 Batch   36/53   train_loss = 0.853\n",
      "Epoch  68 Batch   46/53   train_loss = 0.802\n",
      "Epoch  69 Batch    3/53   train_loss = 0.794\n",
      "Epoch  69 Batch   13/53   train_loss = 0.806\n",
      "Epoch  69 Batch   23/53   train_loss = 0.747\n",
      "Epoch  69 Batch   33/53   train_loss = 0.793\n",
      "Epoch  69 Batch   43/53   train_loss = 0.791\n",
      "Epoch  70 Batch    0/53   train_loss = 0.816\n",
      "Epoch  70 Batch   10/53   train_loss = 0.796\n",
      "Epoch  70 Batch   20/53   train_loss = 0.738\n",
      "Epoch  70 Batch   30/53   train_loss = 0.792\n",
      "Epoch  70 Batch   40/53   train_loss = 0.778\n",
      "Epoch  70 Batch   50/53   train_loss = 0.754\n",
      "Epoch  71 Batch    7/53   train_loss = 0.739\n",
      "Epoch  71 Batch   17/53   train_loss = 0.713\n",
      "Epoch  71 Batch   27/53   train_loss = 0.796\n",
      "Epoch  71 Batch   37/53   train_loss = 0.762\n",
      "Epoch  71 Batch   47/53   train_loss = 0.750\n",
      "Epoch  72 Batch    4/53   train_loss = 0.753\n",
      "Epoch  72 Batch   14/53   train_loss = 0.707\n",
      "Epoch  72 Batch   24/53   train_loss = 0.686\n",
      "Epoch  72 Batch   34/53   train_loss = 0.762\n",
      "Epoch  72 Batch   44/53   train_loss = 0.792\n",
      "Epoch  73 Batch    1/53   train_loss = 0.707\n",
      "Epoch  73 Batch   11/53   train_loss = 0.744\n",
      "Epoch  73 Batch   21/53   train_loss = 0.712\n",
      "Epoch  73 Batch   31/53   train_loss = 0.759\n",
      "Epoch  73 Batch   41/53   train_loss = 0.716\n",
      "Epoch  73 Batch   51/53   train_loss = 0.707\n",
      "Epoch  74 Batch    8/53   train_loss = 0.685\n",
      "Epoch  74 Batch   18/53   train_loss = 0.702\n",
      "Epoch  74 Batch   28/53   train_loss = 0.738\n",
      "Epoch  74 Batch   38/53   train_loss = 0.796\n",
      "Epoch  74 Batch   48/53   train_loss = 0.720\n",
      "Epoch  75 Batch    5/53   train_loss = 0.807\n",
      "Epoch  75 Batch   15/53   train_loss = 0.739\n",
      "Epoch  75 Batch   25/53   train_loss = 0.750\n",
      "Epoch  75 Batch   35/53   train_loss = 0.696\n",
      "Epoch  75 Batch   45/53   train_loss = 0.704\n",
      "Epoch  76 Batch    2/53   train_loss = 0.739\n",
      "Epoch  76 Batch   12/53   train_loss = 0.694\n",
      "Epoch  76 Batch   22/53   train_loss = 0.722\n",
      "Epoch  76 Batch   32/53   train_loss = 0.679\n",
      "Epoch  76 Batch   42/53   train_loss = 0.716\n",
      "Epoch  76 Batch   52/53   train_loss = 0.788\n",
      "Epoch  77 Batch    9/53   train_loss = 0.671\n",
      "Epoch  77 Batch   19/53   train_loss = 0.726\n",
      "Epoch  77 Batch   29/53   train_loss = 0.722\n",
      "Epoch  77 Batch   39/53   train_loss = 0.707\n",
      "Epoch  77 Batch   49/53   train_loss = 0.731\n",
      "Epoch  78 Batch    6/53   train_loss = 0.680\n",
      "Epoch  78 Batch   16/53   train_loss = 0.720\n",
      "Epoch  78 Batch   26/53   train_loss = 0.616\n",
      "Epoch  78 Batch   36/53   train_loss = 0.796\n",
      "Epoch  78 Batch   46/53   train_loss = 0.751\n",
      "Epoch  79 Batch    3/53   train_loss = 0.750\n",
      "Epoch  79 Batch   13/53   train_loss = 0.705\n",
      "Epoch  79 Batch   23/53   train_loss = 0.745\n",
      "Epoch  79 Batch   33/53   train_loss = 0.754\n",
      "Epoch  79 Batch   43/53   train_loss = 0.704\n",
      "Model Trained and Saved\n"
     ]
    }
   ],
   "source": [
    "\"\"\"\n",
    "DON'T MODIFY ANYTHING IN THIS CELL\n",
    "\"\"\"\n",
    "batches = get_batches(int_text, batch_size, seq_length)\n",
    "\n",
    "with tf.Session(graph=train_graph) as sess:\n",
    "    sess.run(tf.global_variables_initializer())\n",
    "\n",
    "    for epoch_i in range(num_epochs):\n",
    "        state = sess.run(initial_state, {input_text: batches[0][0]})\n",
    "\n",
    "        for batch_i, (x, y) in enumerate(batches):\n",
    "            feed = {\n",
    "                input_text: x,\n",
    "                targets: y,\n",
    "                initial_state: state,\n",
    "                lr: learning_rate}\n",
    "            train_loss, state, _ = sess.run([cost, final_state, train_op], feed)\n",
    "\n",
    "            # Show every <show_every_n_batches> batches\n",
    "            if (epoch_i * len(batches) + batch_i) % show_every_n_batches == 0:\n",
    "                print('Epoch {:>3} Batch {:>4}/{}   train_loss = {:.3f}'.format(\n",
    "                    epoch_i,\n",
    "                    batch_i,\n",
    "                    len(batches),\n",
    "                    train_loss))\n",
    "\n",
    "    # Save Model\n",
    "    saver = tf.train.Saver()\n",
    "    saver.save(sess, save_dir)\n",
    "    print('Model Trained and Saved')"
   ]
  },
  {
   "cell_type": "markdown",
   "metadata": {
    "deletable": true,
    "editable": true
   },
   "source": [
    "## Save Parameters\n",
    "Save `seq_length` and `save_dir` for generating a new TV script."
   ]
  },
  {
   "cell_type": "code",
   "execution_count": 38,
   "metadata": {
    "collapsed": false,
    "deletable": true,
    "editable": true
   },
   "outputs": [],
   "source": [
    "\"\"\"\n",
    "DON'T MODIFY ANYTHING IN THIS CELL\n",
    "\"\"\"\n",
    "# Save parameters for checkpoint\n",
    "helper.save_params((seq_length, save_dir))"
   ]
  },
  {
   "cell_type": "markdown",
   "metadata": {
    "deletable": true,
    "editable": true
   },
   "source": [
    "# Checkpoint"
   ]
  },
  {
   "cell_type": "code",
   "execution_count": 39,
   "metadata": {
    "collapsed": false,
    "deletable": true,
    "editable": true
   },
   "outputs": [],
   "source": [
    "\"\"\"\n",
    "DON'T MODIFY ANYTHING IN THIS CELL\n",
    "\"\"\"\n",
    "import tensorflow as tf\n",
    "import numpy as np\n",
    "import helper\n",
    "import problem_unittests as tests\n",
    "\n",
    "_, vocab_to_int, int_to_vocab, token_dict = helper.load_preprocess()\n",
    "seq_length, load_dir = helper.load_params()"
   ]
  },
  {
   "cell_type": "markdown",
   "metadata": {
    "deletable": true,
    "editable": true
   },
   "source": [
    "## Implement Generate Functions\n",
    "### Get Tensors\n",
    "Get tensors from `loaded_graph` using the function [`get_tensor_by_name()`](https://www.tensorflow.org/api_docs/python/tf/Graph#get_tensor_by_name).  Get the tensors using the following names:\n",
    "- \"input:0\"\n",
    "- \"initial_state:0\"\n",
    "- \"final_state:0\"\n",
    "- \"probs:0\"\n",
    "\n",
    "Return the tensors in the following tuple `(InputTensor, InitialStateTensor, FinalStateTensor, ProbsTensor)` "
   ]
  },
  {
   "cell_type": "code",
   "execution_count": 40,
   "metadata": {
    "collapsed": false,
    "deletable": true,
    "editable": true
   },
   "outputs": [
    {
     "name": "stdout",
     "output_type": "stream",
     "text": [
      "Tests Passed\n"
     ]
    }
   ],
   "source": [
    "def get_tensors(loaded_graph):\n",
    "    \"\"\"\n",
    "    Get input, initial state, final state, and probabilities tensor from <loaded_graph>\n",
    "    :param loaded_graph: TensorFlow graph loaded from file\n",
    "    :return: Tuple (InputTensor, InitialStateTensor, FinalStateTensor, ProbsTensor)\n",
    "    \"\"\"\n",
    "    # TODO: Implement Function\n",
    "    InputTensor = tf.Graph.get_tensor_by_name(loaded_graph,'input:0')\n",
    "    InitialStateTensor = tf.Graph.get_tensor_by_name(loaded_graph, 'initial_state:0')\n",
    "    FinalStateTensor = tf.Graph.get_tensor_by_name(loaded_graph, 'final_state:0')\n",
    "    ProbsTensor = tf.Graph.get_tensor_by_name(loaded_graph, 'probs:0')\n",
    "    return InputTensor, InitialStateTensor, FinalStateTensor, ProbsTensor\n",
    "\n",
    "\n",
    "\"\"\"\n",
    "DON'T MODIFY ANYTHING IN THIS CELL THAT IS BELOW THIS LINE\n",
    "\"\"\"\n",
    "tests.test_get_tensors(get_tensors)"
   ]
  },
  {
   "cell_type": "markdown",
   "metadata": {
    "deletable": true,
    "editable": true
   },
   "source": [
    "### Choose Word\n",
    "Implement the `pick_word()` function to select the next word using `probabilities`."
   ]
  },
  {
   "cell_type": "code",
   "execution_count": 41,
   "metadata": {
    "collapsed": false,
    "deletable": true,
    "editable": true
   },
   "outputs": [
    {
     "name": "stdout",
     "output_type": "stream",
     "text": [
      "Tests Passed\n"
     ]
    }
   ],
   "source": [
    "def pick_word(probabilities, int_to_vocab):\n",
    "    \"\"\"\n",
    "    Pick the next word in the generated text\n",
    "    :param probabilities: Probabilites of the next word\n",
    "    :param int_to_vocab: Dictionary of word ids as the keys and words as the values\n",
    "    :return: String of the predicted word\n",
    "    \"\"\"\n",
    "    # TODO: Implement Function\n",
    "    \n",
    "    ''' RECOMMENDATION BY REVIEWER\n",
    "    For example, if a word has .9 probability, it should not be chosen every time. \n",
    "    An interesting method of doing this is by summing the probabilities and multiplying it \n",
    "    by a random number between 0 and 1 \n",
    "    (you can use np.random.rand(1)) -- called rand_calc, and then \n",
    "    call int_to_vocab[int(np.searchsorted(cumulative sum of probabilities, rand_calc))]\n",
    "    '''\n",
    "    # not sure how the above recommendation works.\n",
    "    \n",
    "#     sum_probs = np.sum(probabilities) #this is just one\n",
    "#     rand_calc = np.random.rand(1)\n",
    "#     word = int_to_vocab[int(np.searchsorted(sum_probs, rand_calc))] ?\n",
    "\n",
    "\n",
    "    index = np.random.choice(np.arange(len(probabilities)), 1, p=probabilities)\n",
    "    return int_to_vocab[index[0]]\n",
    "\n",
    "\"\"\"\n",
    "DON'T MODIFY ANYTHING IN THIS CELL THAT IS BELOW THIS LINE\n",
    "\"\"\"\n",
    "tests.test_pick_word(pick_word)"
   ]
  },
  {
   "cell_type": "markdown",
   "metadata": {
    "deletable": true,
    "editable": true
   },
   "source": [
    "## Generate TV Script\n",
    "This will generate the TV script for you.  Set `gen_length` to the length of TV script you want to generate."
   ]
  },
  {
   "cell_type": "code",
   "execution_count": 42,
   "metadata": {
    "collapsed": false,
    "deletable": true,
    "editable": true
   },
   "outputs": [
    {
     "name": "stdout",
     "output_type": "stream",
     "text": [
      "moe_szyslak: well, why don't you keep seein' tatum an proud of these days you still using things him through town.\n",
      "lenny_leonard: i'm sorry, moe. homer need to let you back a new vance calendars....\n",
      "\n",
      "\n",
      "lenny_leonard:(looking off) wh... oh, i think i'll have another thing.\n",
      "moe-clone: hey guys, i'm sorry, i shouldn't had to hear mindless al your own coming home.\n",
      "teenage_barney: wow, channel sir, go off the script, a drunk-- apu total rip-off of düffenbraus fill all the money!\n",
      "moe_szyslak:(whistles) mmmm, then who should put my ma\".\n",
      "lenny_leonard: that's sorry, sir. / oh no, thank you, anyway? / what the hell mean you're sittin' on this guy.\n",
      "\n",
      "\n",
      "carl_carlson:(drunk) all right, please. to a lot of things are. what could you drive this town enforced to win a woman.\n",
      "homer_simpson: who gives a guy(sings, uh, can give these form renee might made any\n"
     ]
    }
   ],
   "source": [
    "gen_length = 200\n",
    "# homer_simpson, moe_szyslak, or Barney_Gumble\n",
    "prime_word = 'moe_szyslak'\n",
    "\n",
    "\"\"\"\n",
    "DON'T MODIFY ANYTHING IN THIS CELL THAT IS BELOW THIS LINE\n",
    "\"\"\"\n",
    "loaded_graph = tf.Graph()\n",
    "with tf.Session(graph=loaded_graph) as sess:\n",
    "    # Load saved model\n",
    "    loader = tf.train.import_meta_graph(load_dir + '.meta')\n",
    "    loader.restore(sess, load_dir)\n",
    "\n",
    "    # Get Tensors from loaded model\n",
    "    input_text, initial_state, final_state, probs = get_tensors(loaded_graph)\n",
    "\n",
    "    # Sentences generation setup\n",
    "    gen_sentences = [prime_word + ':']\n",
    "    prev_state = sess.run(initial_state, {input_text: np.array([[1]])})\n",
    "\n",
    "    # Generate sentences\n",
    "    for n in range(gen_length):\n",
    "        # Dynamic Input\n",
    "        dyn_input = [[vocab_to_int[word] for word in gen_sentences[-seq_length:]]]\n",
    "        dyn_seq_length = len(dyn_input[0])\n",
    "\n",
    "        # Get Prediction\n",
    "        probabilities, prev_state = sess.run(\n",
    "            [probs, final_state],\n",
    "            {input_text: dyn_input, initial_state: prev_state})\n",
    "        \n",
    "        pred_word = pick_word(probabilities[dyn_seq_length-1], int_to_vocab)\n",
    "\n",
    "        gen_sentences.append(pred_word)\n",
    "    \n",
    "    # Remove tokens\n",
    "    tv_script = ' '.join(gen_sentences)\n",
    "    for key, token in token_dict.items():\n",
    "        ending = ' ' if key in ['\\n', '(', '\"'] else ''\n",
    "        tv_script = tv_script.replace(' ' + token.lower(), key)\n",
    "    tv_script = tv_script.replace('\\n ', '\\n')\n",
    "    tv_script = tv_script.replace('( ', '(')\n",
    "        \n",
    "    print(tv_script)"
   ]
  },
  {
   "cell_type": "markdown",
   "metadata": {
    "deletable": true,
    "editable": true
   },
   "source": [
    "# The TV Script is Nonsensical\n",
    "It's ok if the TV script doesn't make any sense.  We trained on less than a megabyte of text.  In order to get good results, you'll have to use a smaller vocabulary or get more data.  Luckly there's more data!  As we mentioned in the begging of this project, this is a subset of [another dataset](https://www.kaggle.com/wcukierski/the-simpsons-by-the-data).  We didn't have you train on all the data, because that would take too long.  However, you are free to train your neural network on all the data.  After you complete the project, of course.\n",
    "# Submitting This Project\n",
    "When submitting this project, make sure to run all the cells before saving the notebook. Save the notebook file as \"dlnd_tv_script_generation.ipynb\" and save it as a HTML file under \"File\" -> \"Download as\". Include the \"helper.py\" and \"problem_unittests.py\" files in your submission."
   ]
  }
 ],
 "metadata": {
  "kernelspec": {
   "display_name": "Python 3",
   "language": "python",
   "name": "python3"
  },
  "language_info": {
   "codemirror_mode": {
    "name": "ipython",
    "version": 3
   },
   "file_extension": ".py",
   "mimetype": "text/x-python",
   "name": "python",
   "nbconvert_exporter": "python",
   "pygments_lexer": "ipython3",
   "version": "3.6.0"
  }
 },
 "nbformat": 4,
 "nbformat_minor": 0
}
