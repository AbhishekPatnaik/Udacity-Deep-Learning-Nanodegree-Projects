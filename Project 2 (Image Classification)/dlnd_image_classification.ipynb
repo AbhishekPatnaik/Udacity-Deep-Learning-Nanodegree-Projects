{
 "cells": [
  {
   "cell_type": "markdown",
   "metadata": {
    "collapsed": true,
    "deletable": true,
    "editable": true
   },
   "source": [
    "# Image Classification\n",
    "In this project, you'll classify images from the [CIFAR-10 dataset](https://www.cs.toronto.edu/~kriz/cifar.html).  The dataset consists of airplanes, dogs, cats, and other objects. You'll preprocess the images, then train a convolutional neural network on all the samples. The images need to be normalized and the labels need to be one-hot encoded.  You'll get to apply what you learned and build a convolutional, max pooling, dropout, and fully connected layers.  At the end, you'll get to see your neural network's predictions on the sample images.\n",
    "## Get the Data\n",
    "Run the following cell to download the [CIFAR-10 dataset for python](https://www.cs.toronto.edu/~kriz/cifar-10-python.tar.gz)."
   ]
  },
  {
   "cell_type": "code",
   "execution_count": 1,
   "metadata": {
    "collapsed": false,
    "deletable": true,
    "editable": true
   },
   "outputs": [
    {
     "name": "stdout",
     "output_type": "stream",
     "text": [
      "All files found!\n"
     ]
    }
   ],
   "source": [
    "\"\"\"\n",
    "DON'T MODIFY ANYTHING IN THIS CELL THAT IS BELOW THIS LINE\n",
    "\"\"\"\n",
    "from urllib.request import urlretrieve\n",
    "from os.path import isfile, isdir\n",
    "from tqdm import tqdm\n",
    "import problem_unittests as tests\n",
    "import tarfile\n",
    "\n",
    "cifar10_dataset_folder_path = 'cifar-10-batches-py'\n",
    "\n",
    "class DLProgress(tqdm):\n",
    "    last_block = 0\n",
    "\n",
    "    def hook(self, block_num=1, block_size=1, total_size=None):\n",
    "        self.total = total_size\n",
    "        self.update((block_num - self.last_block) * block_size)\n",
    "        self.last_block = block_num\n",
    "\n",
    "if not isfile('cifar-10-python.tar.gz'):\n",
    "    with DLProgress(unit='B', unit_scale=True, miniters=1, desc='CIFAR-10 Dataset') as pbar:\n",
    "        urlretrieve(\n",
    "            'https://www.cs.toronto.edu/~kriz/cifar-10-python.tar.gz',\n",
    "            'cifar-10-python.tar.gz',\n",
    "            pbar.hook)\n",
    "\n",
    "if not isdir(cifar10_dataset_folder_path):\n",
    "    with tarfile.open('cifar-10-python.tar.gz') as tar:\n",
    "        tar.extractall()\n",
    "        tar.close()\n",
    "\n",
    "\n",
    "tests.test_folder_path(cifar10_dataset_folder_path)"
   ]
  },
  {
   "cell_type": "markdown",
   "metadata": {
    "deletable": true,
    "editable": true
   },
   "source": [
    "## Explore the Data\n",
    "The dataset is broken into batches to prevent your machine from running out of memory.  The CIFAR-10 dataset consists of 5 batches, named `data_batch_1`, `data_batch_2`, etc.. Each batch contains the labels and images that are one of the following:\n",
    "* airplane\n",
    "* automobile\n",
    "* bird\n",
    "* cat\n",
    "* deer\n",
    "* dog\n",
    "* frog\n",
    "* horse\n",
    "* ship\n",
    "* truck\n",
    "\n",
    "Understanding a dataset is part of making predictions on the data.  Play around with the code cell below by changing the `batch_id` and `sample_id`. The `batch_id` is the id for a batch (1-5). The `sample_id` is the id for a image and label pair in the batch.\n",
    "\n",
    "Ask yourself \"What are all possible labels?\", \"What is the range of values for the image data?\", \"Are the labels in order or random?\".  Answers to questions like these will help you preprocess the data and end up with better predictions."
   ]
  },
  {
   "cell_type": "code",
   "execution_count": 2,
   "metadata": {
    "collapsed": false,
    "deletable": true,
    "editable": true
   },
   "outputs": [
    {
     "name": "stdout",
     "output_type": "stream",
     "text": [
      "\n",
      "Stats of batch 1:\n",
      "Samples: 10000\n",
      "Label Counts: {0: 1005, 1: 974, 2: 1032, 3: 1016, 4: 999, 5: 937, 6: 1030, 7: 1001, 8: 1025, 9: 981}\n",
      "First 20 Labels: [6, 9, 9, 4, 1, 1, 2, 7, 8, 3, 4, 7, 7, 2, 9, 9, 9, 3, 2, 6]\n",
      "\n",
      "Example of Image 5:\n",
      "Image - Min Value: 0 Max Value: 252\n",
      "Image - Shape: (32, 32, 3)\n",
      "Label - Label Id: 1 Name: automobile\n"
     ]
    },
    {
     "data": {
      "image/png": "[encoded data removed]",
      "text/plain": [
       "<matplotlib.figure.Figure at 0x7f762851b588>"
      ]
     },
     "metadata": {
      "image/png": {
       "height": 250,
       "width": 253
      }
     },
     "output_type": "display_data"
    }
   ],
   "source": [
    "%matplotlib inline\n",
    "%config InlineBackend.figure_format = 'retina'\n",
    "\n",
    "import helper\n",
    "import numpy as np\n",
    "\n",
    "# Explore the dataset\n",
    "batch_id = 1\n",
    "sample_id = 5\n",
    "helper.display_stats(cifar10_dataset_folder_path, batch_id, sample_id)"
   ]
  },
  {
   "cell_type": "markdown",
   "metadata": {
    "deletable": true,
    "editable": true
   },
   "source": [
    "## Implement Preprocess Functions\n",
    "### Normalize\n",
    "In the cell below, implement the `normalize` function to take in image data, `x`, and return it as a normalized Numpy array. The values should be in the range of 0 to 1, inclusive.  The return object should be the same shape as `x`."
   ]
  },
  {
   "cell_type": "code",
   "execution_count": 3,
   "metadata": {
    "collapsed": false,
    "deletable": true,
    "editable": true
   },
   "outputs": [
    {
     "name": "stdout",
     "output_type": "stream",
     "text": [
      "Tests Passed\n"
     ]
    }
   ],
   "source": [
    "def normalize(x):\n",
    "    \"\"\"\n",
    "    Normalize a list of sample image data in the range of 0 to 1\n",
    "    : x: List of image data.  The image shape is (32, 32, 3)\n",
    "    : return: Numpy array of normalize data\n",
    "    \"\"\"\n",
    "    # TODO: Implement Function\n",
    "    max_x = np.max(x)\n",
    "    min_x = np.min(x)\n",
    "    x = (max_x-x)/(max_x - min_x)\n",
    "    return x\n",
    "\n",
    "\n",
    "\"\"\"\n",
    "DON'T MODIFY ANYTHING IN THIS CELL THAT IS BELOW THIS LINE\n",
    "\"\"\"\n",
    "tests.test_normalize(normalize)"
   ]
  },
  {
   "cell_type": "markdown",
   "metadata": {
    "deletable": true,
    "editable": true
   },
   "source": [
    "### One-hot encode\n",
    "Just like the previous code cell, you'll be implementing a function for preprocessing.  This time, you'll implement the `one_hot_encode` function. The input, `x`, are a list of labels.  Implement the function to return the list of labels as One-Hot encoded Numpy array.  The possible values for labels are 0 to 9. The one-hot encoding function should return the same encoding for each value between each call to `one_hot_encode`.  Make sure to save the map of encodings outside the function.\n",
    "\n",
    "Hint: Don't reinvent the wheel."
   ]
  },
  {
   "cell_type": "code",
   "execution_count": 4,
   "metadata": {
    "collapsed": false,
    "deletable": true,
    "editable": true
   },
   "outputs": [
    {
     "name": "stdout",
     "output_type": "stream",
     "text": [
      "Tests Passed\n"
     ]
    }
   ],
   "source": [
    "def one_hot_encode(x):\n",
    "    \"\"\"\n",
    "    One hot encode a list of sample labels. Return a one-hot encoded vector for each label.\n",
    "    : x: List of sample Labels\n",
    "    : return: Numpy array of one-hot encoded labels\n",
    "    \"\"\"\n",
    "    # TODO: Implement Function\n",
    "    n = len(x)\n",
    "    one_hot = np.zeros((n, 10))\n",
    "    for i in range(n):\n",
    "        one_hot[i][x[i]] = 1\n",
    "    return one_hot\n",
    "\n",
    "\n",
    "\"\"\"\n",
    "DON'T MODIFY ANYTHING IN THIS CELL THAT IS BELOW THIS LINE\n",
    "\"\"\"\n",
    "tests.test_one_hot_encode(one_hot_encode)"
   ]
  },
  {
   "cell_type": "markdown",
   "metadata": {
    "deletable": true,
    "editable": true
   },
   "source": [
    "### Randomize Data\n",
    "As you saw from exploring the data above, the order of the samples are randomized.  It doesn't hurt to randomize it again, but you don't need to for this dataset."
   ]
  },
  {
   "cell_type": "markdown",
   "metadata": {
    "deletable": true,
    "editable": true
   },
   "source": [
    "## Preprocess all the data and save it\n",
    "Running the code cell below will preprocess all the CIFAR-10 data and save it to file. The code below also uses 10% of the training data for validation."
   ]
  },
  {
   "cell_type": "code",
   "execution_count": 5,
   "metadata": {
    "collapsed": false,
    "deletable": true,
    "editable": true
   },
   "outputs": [],
   "source": [
    "\"\"\"\n",
    "DON'T MODIFY ANYTHING IN THIS CELL\n",
    "\"\"\"\n",
    "# Preprocess Training, Validation, and Testing Data\n",
    "helper.preprocess_and_save_data(cifar10_dataset_folder_path, normalize, one_hot_encode)"
   ]
  },
  {
   "cell_type": "markdown",
   "metadata": {
    "deletable": true,
    "editable": true
   },
   "source": [
    "# Check Point\n",
    "This is your first checkpoint.  If you ever decide to come back to this notebook or have to restart the notebook, you can start from here.  The preprocessed data has been saved to disk."
   ]
  },
  {
   "cell_type": "code",
   "execution_count": 1,
   "metadata": {
    "collapsed": true,
    "deletable": true,
    "editable": true
   },
   "outputs": [],
   "source": [
    "\"\"\"\n",
    "DON'T MODIFY ANYTHING IN THIS CELL\n",
    "\"\"\"\n",
    "import pickle\n",
    "import problem_unittests as tests\n",
    "import helper\n",
    "\n",
    "# Load the Preprocessed Validation data\n",
    "valid_features, valid_labels = pickle.load(open('preprocess_validation.p', mode='rb'))"
   ]
  },
  {
   "cell_type": "markdown",
   "metadata": {
    "deletable": true,
    "editable": true
   },
   "source": [
    "## Build the network\n",
    "For the neural network, you'll build each layer into a function.  Most of the code you've seen has been outside of functions. To test your code more thoroughly, we require that you put each layer in a function.  This allows us to give you better feedback and test for simple mistakes using our unittests before you submit your project.\n",
    "\n",
    ">**Note:** If you're finding it hard to dedicate enough time for this course each week, we've provided a small shortcut to this part of the project. In the next couple of problems, you'll have the option to use classes from the [TensorFlow Layers](https://www.tensorflow.org/api_docs/python/tf/layers) or [TensorFlow Layers (contrib)](https://www.tensorflow.org/api_guides/python/contrib.layers) packages to build each layer, except the layers you build in the \"Convolutional and Max Pooling Layer\" section.  TF Layers is similar to Keras's and TFLearn's abstraction to layers, so it's easy to pickup.\n",
    "\n",
    ">However, if you would like to get the most out of this course, try to solve all the problems _without_ using anything from the TF Layers packages. You **can** still use classes from other packages that happen to have the same name as ones you find in TF Layers! For example, instead of using the TF Layers version of the `conv2d` class, [tf.layers.conv2d](https://www.tensorflow.org/api_docs/python/tf/layers/conv2d), you would want to use the TF Neural Network version of `conv2d`, [tf.nn.conv2d](https://www.tensorflow.org/api_docs/python/tf/nn/conv2d). \n",
    "\n",
    "Let's begin!\n",
    "\n",
    "### Input\n",
    "The neural network needs to read the image data, one-hot encoded labels, and dropout keep probability. Implement the following functions\n",
    "* Implement `neural_net_image_input`\n",
    " * Return a [TF Placeholder](https://www.tensorflow.org/api_docs/python/tf/placeholder)\n",
    " * Set the shape using `image_shape` with batch size set to `None`.\n",
    " * Name the TensorFlow placeholder \"x\" using the TensorFlow `name` parameter in the [TF Placeholder](https://www.tensorflow.org/api_docs/python/tf/placeholder).\n",
    "* Implement `neural_net_label_input`\n",
    " * Return a [TF Placeholder](https://www.tensorflow.org/api_docs/python/tf/placeholder)\n",
    " * Set the shape using `n_classes` with batch size set to `None`.\n",
    " * Name the TensorFlow placeholder \"y\" using the TensorFlow `name` parameter in the [TF Placeholder](https://www.tensorflow.org/api_docs/python/tf/placeholder).\n",
    "* Implement `neural_net_keep_prob_input`\n",
    " * Return a [TF Placeholder](https://www.tensorflow.org/api_docs/python/tf/placeholder) for dropout keep probability.\n",
    " * Name the TensorFlow placeholder \"keep_prob\" using the TensorFlow `name` parameter in the [TF Placeholder](https://www.tensorflow.org/api_docs/python/tf/placeholder).\n",
    "\n",
    "These names will be used at the end of the project to load your saved model.\n",
    "\n",
    "Note: `None` for shapes in TensorFlow allow for a dynamic size."
   ]
  },
  {
   "cell_type": "code",
   "execution_count": 2,
   "metadata": {
    "collapsed": false,
    "deletable": true,
    "editable": true
   },
   "outputs": [
    {
     "name": "stdout",
     "output_type": "stream",
     "text": [
      "Image Input Tests Passed.\n",
      "Label Input Tests Passed.\n",
      "Keep Prob Tests Passed.\n"
     ]
    }
   ],
   "source": [
    "import tensorflow as tf\n",
    "\n",
    "def neural_net_image_input(image_shape):\n",
    "    \"\"\"\n",
    "    Return a Tensor for a bach of image input\n",
    "    : image_shape: Shape of the images\n",
    "    : return: Tensor for image input.\n",
    "    \"\"\"\n",
    "    # TODO: Implement Function\n",
    "    return tf.placeholder(tf.float32, (None, image_shape[0], image_shape[1], image_shape[2]), name='x')\n",
    "\n",
    "\n",
    "def neural_net_label_input(n_classes):\n",
    "    \"\"\"\n",
    "    Return a Tensor for a batch of label input\n",
    "    : n_classes: Number of classes\n",
    "    : return: Tensor for label input.\n",
    "    \"\"\"\n",
    "    # TODO: Implement Function\n",
    "    return tf.placeholder(tf.int8, (None, n_classes), name='y')\n",
    "\n",
    "\n",
    "def neural_net_keep_prob_input():\n",
    "    \"\"\"\n",
    "    Return a Tensor for keep probability\n",
    "    : return: Tensor for keep probability.\n",
    "    \"\"\"\n",
    "    # TODO: Implement Function\n",
    "    return tf.placeholder(tf.float32, name='keep_prob')\n",
    "\n",
    "\n",
    "\"\"\"\n",
    "DON'T MODIFY ANYTHING IN THIS CELL THAT IS BELOW THIS LINE\n",
    "\"\"\"\n",
    "tf.reset_default_graph()\n",
    "tests.test_nn_image_inputs(neural_net_image_input)\n",
    "tests.test_nn_label_inputs(neural_net_label_input)\n",
    "tests.test_nn_keep_prob_inputs(neural_net_keep_prob_input)"
   ]
  },
  {
   "cell_type": "markdown",
   "metadata": {
    "deletable": true,
    "editable": true
   },
   "source": [
    "### Convolution and Max Pooling Layer\n",
    "Convolution layers have a lot of success with images. For this code cell, you should implement the function `conv2d_maxpool` to apply convolution then max pooling:\n",
    "* Create the weight and bias using `conv_ksize`, `conv_num_outputs` and the shape of `x_tensor`.\n",
    "* Apply a convolution to `x_tensor` using weight and `conv_strides`.\n",
    " * We recommend you use same padding, but you're welcome to use any padding.\n",
    "* Add bias\n",
    "* Add a nonlinear activation to the convolution.\n",
    "* Apply Max Pooling using `pool_ksize` and `pool_strides`.\n",
    " * We recommend you use same padding, but you're welcome to use any padding.\n",
    "\n",
    "**Note:** You **can't** use [TensorFlow Layers](https://www.tensorflow.org/api_docs/python/tf/layers) or [TensorFlow Layers (contrib)](https://www.tensorflow.org/api_guides/python/contrib.layers) for **this** layer, but you can still use TensorFlow's [Neural Network](https://www.tensorflow.org/api_docs/python/tf/nn) package. You may still use the shortcut option for all the **other** layers."
   ]
  },
  {
   "cell_type": "code",
   "execution_count": 41,
   "metadata": {
    "collapsed": false,
    "deletable": true,
    "editable": true
   },
   "outputs": [
    {
     "name": "stdout",
     "output_type": "stream",
     "text": [
      "Tests Passed\n"
     ]
    }
   ],
   "source": [
    "def conv2d_maxpool(x_tensor, conv_num_outputs, conv_ksize, conv_strides, pool_ksize, pool_strides):\n",
    "    \"\"\"\n",
    "    Apply convolution then max pooling to x_tensor\n",
    "    :param x_tensor: TensorFlow Tensor\n",
    "    :param conv_num_outputs: Number of outputs for the convolutional layer\n",
    "    :param conv_ksize: kernal size 2-D Tuple for the convolutional layer\n",
    "    :param conv_strides: Stride 2-D Tuple for convolution\n",
    "    :param pool_ksize: kernal size 2-D Tuple for pool\n",
    "    :param pool_strides: Stride 2-D Tuple for pool\n",
    "    : return: A tensor that represents convolution and max pooling of x_tensor\n",
    "    \"\"\"\n",
    "    # TODO: Implement Function\n",
    "    padding = 'SAME'\n",
    "    weight = tf.Variable(tf.truncated_normal([conv_ksize[0], conv_ksize[1], x_tensor.get_shape()[3].value, conv_num_outputs], stddev=0.1))\n",
    "    bias = tf.Variable(tf.zeros([conv_num_outputs]))\n",
    "    stride = [1, conv_strides[0], conv_strides[1], 1]\n",
    "    ksize = [1, pool_ksize[0], pool_ksize[1], 1]\n",
    "    pool_stride = [1, pool_strides[0], pool_strides[1], 1]\n",
    "    x = tf.nn.conv2d(x_tensor, weight, strides=stride, padding=padding)\n",
    "    x = tf.nn.bias_add(x, bias)\n",
    "    x = tf.nn.relu(x)\n",
    "    x = tf.nn.max_pool(x, ksize=ksize, strides=pool_stride, padding=padding)\n",
    "    return x\n",
    "\n",
    "\n",
    "\"\"\"\n",
    "DON'T MODIFY ANYTHING IN THIS CELL THAT IS BELOW THIS LINE\n",
    "\"\"\"\n",
    "tests.test_con_pool(conv2d_maxpool)"
   ]
  },
  {
   "cell_type": "markdown",
   "metadata": {
    "deletable": true,
    "editable": true
   },
   "source": [
    "### Flatten Layer\n",
    "Implement the `flatten` function to change the dimension of `x_tensor` from a 4-D tensor to a 2-D tensor.  The output should be the shape (*Batch Size*, *Flattened Image Size*). Shortcut option: you can use classes from the [TensorFlow Layers](https://www.tensorflow.org/api_docs/python/tf/layers) or [TensorFlow Layers (contrib)](https://www.tensorflow.org/api_guides/python/contrib.layers) packages for this layer. For more of a challenge, only use other TensorFlow packages."
   ]
  },
  {
   "cell_type": "code",
   "execution_count": 42,
   "metadata": {
    "collapsed": false,
    "deletable": true,
    "editable": true
   },
   "outputs": [
    {
     "name": "stdout",
     "output_type": "stream",
     "text": [
      "Tests Passed\n"
     ]
    }
   ],
   "source": [
    "def flatten(x_tensor):\n",
    "    \"\"\"\n",
    "    Flatten x_tensor to (Batch Size, Flattened Image Size)\n",
    "    : x_tensor: A tensor of size (Batch Size, ...), where ... are the image dimensions.\n",
    "    : return: A tensor of size (Batch Size, Flattened Image Size).\n",
    "    \"\"\"\n",
    "    # TODO: Implement Function\n",
    "    shape = x_tensor.get_shape().as_list()\n",
    "    dims = shape[1]*shape[2]*shape[3]\n",
    "    x = tf.reshape(x_tensor, [-1, dims])   \n",
    "    return x\n",
    "\n",
    "\n",
    "\"\"\"\n",
    "DON'T MODIFY ANYTHING IN THIS CELL THAT IS BELOW THIS LINE\n",
    "\"\"\"\n",
    "tests.test_flatten(flatten)"
   ]
  },
  {
   "cell_type": "markdown",
   "metadata": {
    "deletable": true,
    "editable": true
   },
   "source": [
    "### Fully-Connected Layer\n",
    "Implement the `fully_conn` function to apply a fully connected layer to `x_tensor` with the shape (*Batch Size*, *num_outputs*). Shortcut option: you can use classes from the [TensorFlow Layers](https://www.tensorflow.org/api_docs/python/tf/layers) or [TensorFlow Layers (contrib)](https://www.tensorflow.org/api_guides/python/contrib.layers) packages for this layer. For more of a challenge, only use other TensorFlow packages."
   ]
  },
  {
   "cell_type": "code",
   "execution_count": 43,
   "metadata": {
    "collapsed": false,
    "deletable": true,
    "editable": true
   },
   "outputs": [
    {
     "name": "stdout",
     "output_type": "stream",
     "text": [
      "Tests Passed\n"
     ]
    }
   ],
   "source": [
    "def fully_conn(x_tensor, num_outputs):\n",
    "    \"\"\"\n",
    "    Apply a fully connected layer to x_tensor using weight and bias\n",
    "    : x_tensor: A 2-D tensor where the first dimension is batch size.\n",
    "    : num_outputs: The number of output that the new tensor should be.\n",
    "    : return: A 2-D tensor where the second dimension is num_outputs.\n",
    "    \"\"\"\n",
    "    # TODO: Implement Function\n",
    "    weights = tf.Variable(tf.truncated_normal([x_tensor.get_shape()[1].value, num_outputs], stddev=0.1))\n",
    "    bias = tf.Variable(tf.zeros([num_outputs]))\n",
    "    x = tf.add(tf.matmul(x_tensor, weights), bias)\n",
    "    x = tf.nn.relu(x)\n",
    "    return x\n",
    "\n",
    "\n",
    "\n",
    "\"\"\"\n",
    "DON'T MODIFY ANYTHING IN THIS CELL THAT IS BELOW THIS LINE\n",
    "\"\"\"\n",
    "tests.test_fully_conn(fully_conn)"
   ]
  },
  {
   "cell_type": "markdown",
   "metadata": {
    "deletable": true,
    "editable": true
   },
   "source": [
    "### Output Layer\n",
    "Implement the `output` function to apply a fully connected layer to `x_tensor` with the shape (*Batch Size*, *num_outputs*). Shortcut option: you can use classes from the [TensorFlow Layers](https://www.tensorflow.org/api_docs/python/tf/layers) or [TensorFlow Layers (contrib)](https://www.tensorflow.org/api_guides/python/contrib.layers) packages for this layer. For more of a challenge, only use other TensorFlow packages.\n",
    "\n",
    "**Note:** Activation, softmax, or cross entropy should **not** be applied to this."
   ]
  },
  {
   "cell_type": "code",
   "execution_count": 44,
   "metadata": {
    "collapsed": false,
    "deletable": true,
    "editable": true
   },
   "outputs": [
    {
     "name": "stdout",
     "output_type": "stream",
     "text": [
      "Tests Passed\n"
     ]
    }
   ],
   "source": [
    "def output(x_tensor, num_outputs):\n",
    "    \"\"\"\n",
    "    Apply a output layer to x_tensor using weight and bias\n",
    "    : x_tensor: A 2-D tensor where the first dimension is batch size.\n",
    "    : num_outputs: The number of output that the new tensor should be.\n",
    "    : return: A 2-D tensor where the second dimension is num_outputs.\n",
    "    \"\"\"\n",
    "    # TODO: Implement Function\n",
    "    weights = tf.Variable(tf.truncated_normal([x_tensor.get_shape()[1].value, num_outputs], stddev=0.1))\n",
    "    bias = tf.Variable(tf.zeros([num_outputs]))\n",
    "    return tf.add(tf.matmul(x_tensor, weights), bias)\n",
    "\n",
    "\n",
    "\n",
    "\"\"\"\n",
    "DON'T MODIFY ANYTHING IN THIS CELL THAT IS BELOW THIS LINE\n",
    "\"\"\"\n",
    "tests.test_output(output)"
   ]
  },
  {
   "cell_type": "markdown",
   "metadata": {
    "deletable": true,
    "editable": true
   },
   "source": [
    "### Create Convolutional Model\n",
    "Implement the function `conv_net` to create a convolutional neural network model. The function takes in a batch of images, `x`, and outputs logits.  Use the layers you created above to create this model:\n",
    "\n",
    "* Apply 1, 2, or 3 Convolution and Max Pool layers\n",
    "* Apply a Flatten Layer\n",
    "* Apply 1, 2, or 3 Fully Connected Layers\n",
    "* Apply an Output Layer\n",
    "* Return the output\n",
    "* Apply [TensorFlow's Dropout](https://www.tensorflow.org/api_docs/python/tf/nn/dropout) to one or more layers in the model using `keep_prob`. "
   ]
  },
  {
   "cell_type": "code",
   "execution_count": 45,
   "metadata": {
    "collapsed": false,
    "deletable": true,
    "editable": true
   },
   "outputs": [
    {
     "name": "stdout",
     "output_type": "stream",
     "text": [
      "Neural Network Built!\n"
     ]
    }
   ],
   "source": [
    "def conv_net(x, keep_prob):\n",
    "    \"\"\"\n",
    "    Create a convolutional neural network model\n",
    "    : x: Placeholder tensor that holds image data.\n",
    "    : keep_prob: Placeholder tensor that hold dropout keep probability.\n",
    "    : return: Tensor that represents logits\n",
    "    \"\"\"\n",
    "    # TODO: Apply 1, 2, or 3 Convolution and Max Pool layers\n",
    "    #    Play around with different number of outputs, kernel size and stride\n",
    "    # Function Definition from Above:\n",
    "    #    conv2d_maxpool(x_tensor, conv_num_outputs, conv_ksize, conv_strides, pool_ksize, pool_strides)\n",
    "    x = conv2d_maxpool(x, 36, (3, 3), (1, 1), (2, 2), (2, 2))\n",
    "    x = conv2d_maxpool(x, 78, (2, 2), (1, 1), (2, 2), (2, 2))\n",
    "\n",
    "    # TODO: Apply a Flatten Layer\n",
    "    # Function Definition from Above:\n",
    "    #   flatten(x_tensor)\n",
    "    x = flatten(x)\n",
    "\n",
    "    # TODO: Apply 1, 2, or 3 Fully Connected Layers\n",
    "    #    Play around with different number of outputs\n",
    "    # Function Definition from Above:\n",
    "    #   fully_conn(x_tensor, num_outputs)\n",
    "    x = fully_conn(x, 72)\n",
    "    x = tf.nn.dropout(x, keep_prob)\n",
    "    x = fully_conn(x, 32)\n",
    "    \n",
    "    \n",
    "    # TODO: Apply an Output Layer\n",
    "    #    Set this to the number of classes\n",
    "    # Function Definition from Above:\n",
    "    #   output(x_tensor, num_outputs)\n",
    "    x = output(x, 10)\n",
    "    \n",
    "    # TODO: return output\n",
    "    return x\n",
    "\n",
    "\n",
    "\"\"\"\n",
    "DON'T MODIFY ANYTHING IN THIS CELL THAT IS BELOW THIS LINE\n",
    "\"\"\"\n",
    "\n",
    "##############################\n",
    "## Build the Neural Network ##\n",
    "##############################\n",
    "\n",
    "# Remove previous weights, bias, inputs, etc..\n",
    "tf.reset_default_graph()\n",
    "\n",
    "# Inputs\n",
    "x = neural_net_image_input((32, 32, 3))\n",
    "y = neural_net_label_input(10)\n",
    "keep_prob = neural_net_keep_prob_input()\n",
    "\n",
    "# Model\n",
    "logits = conv_net(x, keep_prob)\n",
    "\n",
    "# Name logits Tensor, so that is can be loaded from disk after training\n",
    "logits = tf.identity(logits, name='logits')\n",
    "\n",
    "# Loss and Optimizer\n",
    "cost = tf.reduce_mean(tf.nn.softmax_cross_entropy_with_logits(logits=logits, labels=y))\n",
    "optimizer = tf.train.AdamOptimizer().minimize(cost)\n",
    "\n",
    "# Accuracy\n",
    "correct_pred = tf.equal(tf.argmax(logits, 1), tf.argmax(y, 1))\n",
    "accuracy = tf.reduce_mean(tf.cast(correct_pred, tf.float32), name='accuracy')\n",
    "\n",
    "tests.test_conv_net(conv_net)"
   ]
  },
  {
   "cell_type": "markdown",
   "metadata": {
    "deletable": true,
    "editable": true
   },
   "source": [
    "## Train the Neural Network\n",
    "### Single Optimization\n",
    "Implement the function `train_neural_network` to do a single optimization.  The optimization should use `optimizer` to optimize in `session` with a `feed_dict` of the following:\n",
    "* `x` for image input\n",
    "* `y` for labels\n",
    "* `keep_prob` for keep probability for dropout\n",
    "\n",
    "This function will be called for each batch, so `tf.global_variables_initializer()` has already been called.\n",
    "\n",
    "Note: Nothing needs to be returned. This function is only optimizing the neural network."
   ]
  },
  {
   "cell_type": "code",
   "execution_count": 46,
   "metadata": {
    "collapsed": false,
    "deletable": true,
    "editable": true
   },
   "outputs": [
    {
     "name": "stdout",
     "output_type": "stream",
     "text": [
      "Tests Passed\n"
     ]
    }
   ],
   "source": [
    "def train_neural_network(session, optimizer, keep_probability, feature_batch, label_batch):\n",
    "    \"\"\"\n",
    "    Optimize the session on a batch of images and labels\n",
    "    : session: Current TensorFlow session\n",
    "    : optimizer: TensorFlow optimizer function\n",
    "    : keep_probability: keep probability\n",
    "    : feature_batch: Batch of Numpy image data\n",
    "    : label_batch: Batch of Numpy label data\n",
    "    \"\"\"\n",
    "    # TODO: Implement Function\n",
    "    session.run(optimizer, feed_dict={x: feature_batch, y: label_batch, keep_prob: keep_probability})\n",
    "\n",
    "\n",
    "\"\"\"\n",
    "DON'T MODIFY ANYTHING IN THIS CELL THAT IS BELOW THIS LINE\n",
    "\"\"\"\n",
    "tests.test_train_nn(train_neural_network)"
   ]
  },
  {
   "cell_type": "markdown",
   "metadata": {
    "deletable": true,
    "editable": true
   },
   "source": [
    "### Show Stats\n",
    "Implement the function `print_stats` to print loss and validation accuracy.  Use the global variables `valid_features` and `valid_labels` to calculate validation accuracy.  Use a keep probability of `1.0` to calculate the loss and validation accuracy."
   ]
  },
  {
   "cell_type": "code",
   "execution_count": 47,
   "metadata": {
    "collapsed": false,
    "deletable": true,
    "editable": true
   },
   "outputs": [],
   "source": [
    "def print_stats(session, feature_batch, label_batch, cost, accuracy):\n",
    "    \"\"\"\n",
    "    Print information about loss and validation accuracy\n",
    "    : session: Current TensorFlow session\n",
    "    : feature_batch: Batch of Numpy image data\n",
    "    : label_batch: Batch of Numpy label data\n",
    "    : cost: TensorFlow cost function\n",
    "    : accuracy: TensorFlow accuracy function\n",
    "    \"\"\"\n",
    "    # TODO: Implement Function\n",
    "    loss, acc = session.run([cost, accuracy], feed_dict={x:valid_features, y:valid_labels, keep_prob:1})\n",
    "    print ('Loss: {}, Accuracy: {}'.format(loss, acc))"
   ]
  },
  {
   "cell_type": "markdown",
   "metadata": {
    "deletable": true,
    "editable": true
   },
   "source": [
    "### Hyperparameters\n",
    "Tune the following parameters:\n",
    "* Set `epochs` to the number of iterations until the network stops learning or start overfitting\n",
    "* Set `batch_size` to the highest number that your machine has memory for.  Most people set them to common sizes of memory:\n",
    " * 64\n",
    " * 128\n",
    " * 256\n",
    " * ...\n",
    "* Set `keep_probability` to the probability of keeping a node using dropout"
   ]
  },
  {
   "cell_type": "code",
   "execution_count": 50,
   "metadata": {
    "collapsed": true,
    "deletable": true,
    "editable": true
   },
   "outputs": [],
   "source": [
    "# TODO: Tune Parameters\n",
    "epochs = 30\n",
    "batch_size = 256\n",
    "keep_probability = 0.6"
   ]
  },
  {
   "cell_type": "markdown",
   "metadata": {
    "deletable": true,
    "editable": true
   },
   "source": [
    "### Train on a Single CIFAR-10 Batch\n",
    "Instead of training the neural network on all the CIFAR-10 batches of data, let's use a single batch. This should save time while you iterate on the model to get a better accuracy.  Once the final validation accuracy is 50% or greater, run the model on all the data in the next section."
   ]
  },
  {
   "cell_type": "code",
   "execution_count": 51,
   "metadata": {
    "collapsed": false,
    "deletable": true,
    "editable": true
   },
   "outputs": [
    {
     "name": "stdout",
     "output_type": "stream",
     "text": [
      "Checking the Training on a Single Batch...\n",
      "Epoch  1, CIFAR-10 Batch 1:  Loss: 2.0682880878448486, Accuracy: 0.2215999811887741\n",
      "Epoch  2, CIFAR-10 Batch 1:  Loss: 1.8974055051803589, Accuracy: 0.32179999351501465\n",
      "Epoch  3, CIFAR-10 Batch 1:  Loss: 1.806913137435913, Accuracy: 0.3456000089645386\n",
      "Epoch  4, CIFAR-10 Batch 1:  Loss: 1.6498379707336426, Accuracy: 0.4065999686717987\n",
      "Epoch  5, CIFAR-10 Batch 1:  Loss: 1.5731313228607178, Accuracy: 0.43779999017715454\n",
      "Epoch  6, CIFAR-10 Batch 1:  Loss: 1.5438213348388672, Accuracy: 0.4431999623775482\n",
      "Epoch  7, CIFAR-10 Batch 1:  Loss: 1.5193973779678345, Accuracy: 0.45799997448921204\n",
      "Epoch  8, CIFAR-10 Batch 1:  Loss: 1.4595518112182617, Accuracy: 0.476999968290329\n",
      "Epoch  9, CIFAR-10 Batch 1:  Loss: 1.4218546152114868, Accuracy: 0.4861999452114105\n",
      "Epoch 10, CIFAR-10 Batch 1:  Loss: 1.4198065996170044, Accuracy: 0.4869999587535858\n",
      "Epoch 11, CIFAR-10 Batch 1:  Loss: 1.3689721822738647, Accuracy: 0.5105999708175659\n",
      "Epoch 12, CIFAR-10 Batch 1:  Loss: 1.3640421628952026, Accuracy: 0.5089999437332153\n",
      "Epoch 13, CIFAR-10 Batch 1:  Loss: 1.348192572593689, Accuracy: 0.517799973487854\n",
      "Epoch 14, CIFAR-10 Batch 1:  Loss: 1.3248145580291748, Accuracy: 0.5195999145507812\n",
      "Epoch 15, CIFAR-10 Batch 1:  Loss: 1.3291867971420288, Accuracy: 0.5281999111175537\n",
      "Epoch 16, CIFAR-10 Batch 1:  Loss: 1.307464599609375, Accuracy: 0.5317999124526978\n",
      "Epoch 17, CIFAR-10 Batch 1:  Loss: 1.285649299621582, Accuracy: 0.5377999544143677\n",
      "Epoch 18, CIFAR-10 Batch 1:  Loss: 1.3045505285263062, Accuracy: 0.5279999375343323\n",
      "Epoch 19, CIFAR-10 Batch 1:  Loss: 1.2827223539352417, Accuracy: 0.5371999144554138\n",
      "Epoch 20, CIFAR-10 Batch 1:  Loss: 1.282247543334961, Accuracy: 0.5425999760627747\n",
      "Epoch 21, CIFAR-10 Batch 1:  Loss: 1.3234862089157104, Accuracy: 0.5266000032424927\n",
      "Epoch 22, CIFAR-10 Batch 1:  Loss: 1.3276721239089966, Accuracy: 0.5245999097824097\n",
      "Epoch 23, CIFAR-10 Batch 1:  Loss: 1.3080430030822754, Accuracy: 0.5227999091148376\n",
      "Epoch 24, CIFAR-10 Batch 1:  Loss: 1.2448564767837524, Accuracy: 0.5559999346733093\n",
      "Epoch 25, CIFAR-10 Batch 1:  Loss: 1.274183988571167, Accuracy: 0.5501999258995056\n",
      "Epoch 26, CIFAR-10 Batch 1:  Loss: 1.266843318939209, Accuracy: 0.5573999881744385\n",
      "Epoch 27, CIFAR-10 Batch 1:  Loss: 1.2546143531799316, Accuracy: 0.5557999610900879\n",
      "Epoch 28, CIFAR-10 Batch 1:  Loss: 1.2225186824798584, Accuracy: 0.5669999718666077\n",
      "Epoch 29, CIFAR-10 Batch 1:  Loss: 1.2283713817596436, Accuracy: 0.5615999102592468\n",
      "Epoch 30, CIFAR-10 Batch 1:  Loss: 1.2147144079208374, Accuracy: 0.5713999271392822\n"
     ]
    }
   ],
   "source": [
    "\"\"\"\n",
    "DON'T MODIFY ANYTHING IN THIS CELL\n",
    "\"\"\"\n",
    "print('Checking the Training on a Single Batch...')\n",
    "with tf.Session() as sess:\n",
    "    # Initializing the variables\n",
    "    sess.run(tf.global_variables_initializer())\n",
    "    \n",
    "    # Training cycle\n",
    "    for epoch in range(epochs):\n",
    "        batch_i = 1\n",
    "        for batch_features, batch_labels in helper.load_preprocess_training_batch(batch_i, batch_size):\n",
    "            train_neural_network(sess, optimizer, keep_probability, batch_features, batch_labels)\n",
    "        print('Epoch {:>2}, CIFAR-10 Batch {}:  '.format(epoch + 1, batch_i), end='')\n",
    "        print_stats(sess, batch_features, batch_labels, cost, accuracy)"
   ]
  },
  {
   "cell_type": "markdown",
   "metadata": {
    "deletable": true,
    "editable": true
   },
   "source": [
    "### Fully Train the Model\n",
    "Now that you got a good accuracy with a single CIFAR-10 batch, try it with all five batches."
   ]
  },
  {
   "cell_type": "code",
   "execution_count": 52,
   "metadata": {
    "collapsed": false,
    "deletable": true,
    "editable": true
   },
   "outputs": [
    {
     "name": "stdout",
     "output_type": "stream",
     "text": [
      "Training...\n",
      "Epoch  1, CIFAR-10 Batch 1:  Loss: 2.063972234725952, Accuracy: 0.24619998037815094\n",
      "Epoch  1, CIFAR-10 Batch 2:  Loss: 1.8954849243164062, Accuracy: 0.31139999628067017\n",
      "Epoch  1, CIFAR-10 Batch 3:  Loss: 1.7919479608535767, Accuracy: 0.3739999532699585\n",
      "Epoch  1, CIFAR-10 Batch 4:  Loss: 1.6750483512878418, Accuracy: 0.4119999408721924\n",
      "Epoch  1, CIFAR-10 Batch 5:  Loss: 1.5899242162704468, Accuracy: 0.4099999666213989\n",
      "Epoch  2, CIFAR-10 Batch 1:  Loss: 1.5420058965682983, Accuracy: 0.43859997391700745\n",
      "Epoch  2, CIFAR-10 Batch 2:  Loss: 1.483925700187683, Accuracy: 0.4553999602794647\n",
      "Epoch  2, CIFAR-10 Batch 3:  Loss: 1.5091640949249268, Accuracy: 0.45739999413490295\n",
      "Epoch  2, CIFAR-10 Batch 4:  Loss: 1.4738341569900513, Accuracy: 0.4675999879837036\n",
      "Epoch  2, CIFAR-10 Batch 5:  Loss: 1.4105827808380127, Accuracy: 0.4797999858856201\n",
      "Epoch  3, CIFAR-10 Batch 1:  Loss: 1.375917911529541, Accuracy: 0.5025999546051025\n",
      "Epoch  3, CIFAR-10 Batch 2:  Loss: 1.3665663003921509, Accuracy: 0.4999999701976776\n",
      "Epoch  3, CIFAR-10 Batch 3:  Loss: 1.3634870052337646, Accuracy: 0.5003999471664429\n",
      "Epoch  3, CIFAR-10 Batch 4:  Loss: 1.3348675966262817, Accuracy: 0.5169999599456787\n",
      "Epoch  3, CIFAR-10 Batch 5:  Loss: 1.3476088047027588, Accuracy: 0.5073999166488647\n",
      "Epoch  4, CIFAR-10 Batch 1:  Loss: 1.300487995147705, Accuracy: 0.5345999002456665\n",
      "Epoch  4, CIFAR-10 Batch 2:  Loss: 1.3337424993515015, Accuracy: 0.5175999402999878\n",
      "Epoch  4, CIFAR-10 Batch 3:  Loss: 1.2717742919921875, Accuracy: 0.5447999238967896\n",
      "Epoch  4, CIFAR-10 Batch 4:  Loss: 1.2562415599822998, Accuracy: 0.5441999435424805\n",
      "Epoch  4, CIFAR-10 Batch 5:  Loss: 1.2637945413589478, Accuracy: 0.5407999753952026\n",
      "Epoch  5, CIFAR-10 Batch 1:  Loss: 1.2273578643798828, Accuracy: 0.556999921798706\n",
      "Epoch  5, CIFAR-10 Batch 2:  Loss: 1.2762281894683838, Accuracy: 0.5451999306678772\n",
      "Epoch  5, CIFAR-10 Batch 3:  Loss: 1.2044955492019653, Accuracy: 0.5653999447822571\n",
      "Epoch  5, CIFAR-10 Batch 4:  Loss: 1.214789628982544, Accuracy: 0.5637999176979065\n",
      "Epoch  5, CIFAR-10 Batch 5:  Loss: 1.221542477607727, Accuracy: 0.5587999820709229\n",
      "Epoch  6, CIFAR-10 Batch 1:  Loss: 1.1597610712051392, Accuracy: 0.5775998830795288\n",
      "Epoch  6, CIFAR-10 Batch 2:  Loss: 1.205666422843933, Accuracy: 0.5645999908447266\n",
      "Epoch  6, CIFAR-10 Batch 3:  Loss: 1.1640180349349976, Accuracy: 0.5813999176025391\n",
      "Epoch  6, CIFAR-10 Batch 4:  Loss: 1.1379690170288086, Accuracy: 0.5957999229431152\n",
      "Epoch  6, CIFAR-10 Batch 5:  Loss: 1.1380598545074463, Accuracy: 0.58899986743927\n",
      "Epoch  7, CIFAR-10 Batch 1:  Loss: 1.119887351989746, Accuracy: 0.5989998579025269\n",
      "Epoch  7, CIFAR-10 Batch 2:  Loss: 1.131822943687439, Accuracy: 0.5969998836517334\n",
      "Epoch  7, CIFAR-10 Batch 3:  Loss: 1.1281589269638062, Accuracy: 0.6017998456954956\n",
      "Epoch  7, CIFAR-10 Batch 4:  Loss: 1.1067593097686768, Accuracy: 0.6045998930931091\n",
      "Epoch  7, CIFAR-10 Batch 5:  Loss: 1.09449303150177, Accuracy: 0.6055998802185059\n",
      "Epoch  8, CIFAR-10 Batch 1:  Loss: 1.0849179029464722, Accuracy: 0.6131998896598816\n",
      "Epoch  8, CIFAR-10 Batch 2:  Loss: 1.0896214246749878, Accuracy: 0.6125999093055725\n",
      "Epoch  8, CIFAR-10 Batch 3:  Loss: 1.0790070295333862, Accuracy: 0.6157999038696289\n",
      "Epoch  8, CIFAR-10 Batch 4:  Loss: 1.0690388679504395, Accuracy: 0.6171998977661133\n",
      "Epoch  8, CIFAR-10 Batch 5:  Loss: 1.0539687871932983, Accuracy: 0.6255998611450195\n",
      "Epoch  9, CIFAR-10 Batch 1:  Loss: 1.0440964698791504, Accuracy: 0.6291999220848083\n",
      "Epoch  9, CIFAR-10 Batch 2:  Loss: 1.0775243043899536, Accuracy: 0.6103999018669128\n",
      "Epoch  9, CIFAR-10 Batch 3:  Loss: 1.039807677268982, Accuracy: 0.6313998699188232\n",
      "Epoch  9, CIFAR-10 Batch 4:  Loss: 1.0601199865341187, Accuracy: 0.6215999126434326\n",
      "Epoch  9, CIFAR-10 Batch 5:  Loss: 1.023202896118164, Accuracy: 0.6361998915672302\n",
      "Epoch 10, CIFAR-10 Batch 1:  Loss: 1.0367029905319214, Accuracy: 0.6325998902320862\n",
      "Epoch 10, CIFAR-10 Batch 2:  Loss: 1.0391607284545898, Accuracy: 0.6343998908996582\n",
      "Epoch 10, CIFAR-10 Batch 3:  Loss: 1.023661494255066, Accuracy: 0.6363999247550964\n",
      "Epoch 10, CIFAR-10 Batch 4:  Loss: 1.0144284963607788, Accuracy: 0.6439998745918274\n",
      "Epoch 10, CIFAR-10 Batch 5:  Loss: 1.0119746923446655, Accuracy: 0.645599901676178\n",
      "Epoch 11, CIFAR-10 Batch 1:  Loss: 1.0090405941009521, Accuracy: 0.6463998556137085\n",
      "Epoch 11, CIFAR-10 Batch 2:  Loss: 0.9975800514221191, Accuracy: 0.6483998894691467\n",
      "Epoch 11, CIFAR-10 Batch 3:  Loss: 1.0109232664108276, Accuracy: 0.637999951839447\n",
      "Epoch 11, CIFAR-10 Batch 4:  Loss: 0.9991777539253235, Accuracy: 0.6477999091148376\n",
      "Epoch 11, CIFAR-10 Batch 5:  Loss: 0.9855987429618835, Accuracy: 0.6531998515129089\n",
      "Epoch 12, CIFAR-10 Batch 1:  Loss: 0.9912334680557251, Accuracy: 0.6513998508453369\n",
      "Epoch 12, CIFAR-10 Batch 2:  Loss: 0.9819740653038025, Accuracy: 0.6573998928070068\n",
      "Epoch 12, CIFAR-10 Batch 3:  Loss: 0.9676138162612915, Accuracy: 0.660399854183197\n",
      "Epoch 12, CIFAR-10 Batch 4:  Loss: 0.9626302719116211, Accuracy: 0.6569998860359192\n",
      "Epoch 12, CIFAR-10 Batch 5:  Loss: 0.9797175526618958, Accuracy: 0.6533998847007751\n",
      "Epoch 13, CIFAR-10 Batch 1:  Loss: 0.9770525097846985, Accuracy: 0.6573998928070068\n",
      "Epoch 13, CIFAR-10 Batch 2:  Loss: 0.9691956639289856, Accuracy: 0.6623998880386353\n",
      "Epoch 13, CIFAR-10 Batch 3:  Loss: 0.9766478538513184, Accuracy: 0.6535998582839966\n",
      "Epoch 13, CIFAR-10 Batch 4:  Loss: 0.9551409482955933, Accuracy: 0.6617998480796814\n",
      "Epoch 13, CIFAR-10 Batch 5:  Loss: 0.9429193735122681, Accuracy: 0.6689998507499695\n",
      "Epoch 14, CIFAR-10 Batch 1:  Loss: 0.9665036797523499, Accuracy: 0.660599946975708\n",
      "Epoch 14, CIFAR-10 Batch 2:  Loss: 0.9722906947135925, Accuracy: 0.6629998683929443\n",
      "Epoch 14, CIFAR-10 Batch 3:  Loss: 0.9859836101531982, Accuracy: 0.6415998339653015\n",
      "Epoch 14, CIFAR-10 Batch 4:  Loss: 0.9403107762336731, Accuracy: 0.6701998710632324\n",
      "Epoch 14, CIFAR-10 Batch 5:  Loss: 0.9326795935630798, Accuracy: 0.6737998723983765\n",
      "Epoch 15, CIFAR-10 Batch 1:  Loss: 0.9507118463516235, Accuracy: 0.6661999225616455\n",
      "Epoch 15, CIFAR-10 Batch 2:  Loss: 0.9357420802116394, Accuracy: 0.6771999001502991\n",
      "Epoch 15, CIFAR-10 Batch 3:  Loss: 0.933343768119812, Accuracy: 0.6709998846054077\n",
      "Epoch 15, CIFAR-10 Batch 4:  Loss: 0.9317480325698853, Accuracy: 0.6779998540878296\n",
      "Epoch 15, CIFAR-10 Batch 5:  Loss: 0.9203604459762573, Accuracy: 0.6779999136924744\n",
      "Epoch 16, CIFAR-10 Batch 1:  Loss: 0.9333741068840027, Accuracy: 0.6733999252319336\n",
      "Epoch 16, CIFAR-10 Batch 2:  Loss: 0.913996696472168, Accuracy: 0.6787999272346497\n",
      "Epoch 16, CIFAR-10 Batch 3:  Loss: 0.9231032133102417, Accuracy: 0.6727999448776245\n",
      "Epoch 16, CIFAR-10 Batch 4:  Loss: 0.917952299118042, Accuracy: 0.6797999143600464\n",
      "Epoch 16, CIFAR-10 Batch 5:  Loss: 0.9464716911315918, Accuracy: 0.6673998832702637\n",
      "Epoch 17, CIFAR-10 Batch 1:  Loss: 0.9141203761100769, Accuracy: 0.6801999807357788\n",
      "Epoch 17, CIFAR-10 Batch 2:  Loss: 0.9221586585044861, Accuracy: 0.6819998621940613\n",
      "Epoch 17, CIFAR-10 Batch 3:  Loss: 0.9456788301467896, Accuracy: 0.6715998649597168\n",
      "Epoch 17, CIFAR-10 Batch 4:  Loss: 0.9096016883850098, Accuracy: 0.6833999156951904\n",
      "Epoch 17, CIFAR-10 Batch 5:  Loss: 0.9041756391525269, Accuracy: 0.679399847984314\n",
      "Epoch 18, CIFAR-10 Batch 1:  Loss: 0.9006860256195068, Accuracy: 0.6837998628616333\n",
      "Epoch 18, CIFAR-10 Batch 2:  Loss: 0.9219405651092529, Accuracy: 0.6771998405456543\n",
      "Epoch 18, CIFAR-10 Batch 3:  Loss: 0.9358119964599609, Accuracy: 0.6751998662948608\n",
      "Epoch 18, CIFAR-10 Batch 4:  Loss: 0.9169966578483582, Accuracy: 0.6855998635292053\n",
      "Epoch 18, CIFAR-10 Batch 5:  Loss: 0.9227409362792969, Accuracy: 0.6767999529838562\n",
      "Epoch 19, CIFAR-10 Batch 1:  Loss: 0.9110278487205505, Accuracy: 0.6823998689651489\n",
      "Epoch 19, CIFAR-10 Batch 2:  Loss: 0.9282243847846985, Accuracy: 0.6759998798370361\n",
      "Epoch 19, CIFAR-10 Batch 3:  Loss: 0.9120557308197021, Accuracy: 0.6823999285697937\n",
      "Epoch 19, CIFAR-10 Batch 4:  Loss: 0.9089951515197754, Accuracy: 0.693199872970581\n",
      "Epoch 19, CIFAR-10 Batch 5:  Loss: 0.9057936668395996, Accuracy: 0.6873998641967773\n",
      "Epoch 20, CIFAR-10 Batch 1:  Loss: 0.8982413411140442, Accuracy: 0.6913999319076538\n",
      "Epoch 20, CIFAR-10 Batch 2:  Loss: 0.9025234580039978, Accuracy: 0.6917998790740967\n",
      "Epoch 20, CIFAR-10 Batch 3:  Loss: 0.922150194644928, Accuracy: 0.680199921131134\n",
      "Epoch 20, CIFAR-10 Batch 4:  Loss: 0.8933961391448975, Accuracy: 0.6945999264717102\n",
      "Epoch 20, CIFAR-10 Batch 5:  Loss: 0.915479302406311, Accuracy: 0.682999849319458\n",
      "Epoch 21, CIFAR-10 Batch 1:  Loss: 0.9091475605964661, Accuracy: 0.686599850654602\n",
      "Epoch 21, CIFAR-10 Batch 2:  Loss: 0.941236138343811, Accuracy: 0.6771999001502991\n",
      "Epoch 21, CIFAR-10 Batch 3:  Loss: 0.9327161312103271, Accuracy: 0.675399899482727\n",
      "Epoch 21, CIFAR-10 Batch 4:  Loss: 0.9152252674102783, Accuracy: 0.6891998052597046\n",
      "Epoch 21, CIFAR-10 Batch 5:  Loss: 0.9056317806243896, Accuracy: 0.6871998310089111\n",
      "Epoch 22, CIFAR-10 Batch 1:  Loss: 0.9077574014663696, Accuracy: 0.6833998560905457\n",
      "Epoch 22, CIFAR-10 Batch 2:  Loss: 0.9127985835075378, Accuracy: 0.6869999170303345\n",
      "Epoch 22, CIFAR-10 Batch 3:  Loss: 0.9309172034263611, Accuracy: 0.678399920463562\n",
      "Epoch 22, CIFAR-10 Batch 4:  Loss: 0.894836962223053, Accuracy: 0.6933998465538025\n",
      "Epoch 22, CIFAR-10 Batch 5:  Loss: 0.9162650108337402, Accuracy: 0.6821998953819275\n",
      "Epoch 23, CIFAR-10 Batch 1:  Loss: 0.8988488912582397, Accuracy: 0.6899998188018799\n",
      "Epoch 23, CIFAR-10 Batch 2:  Loss: 0.9398714900016785, Accuracy: 0.6815997958183289\n",
      "Epoch 23, CIFAR-10 Batch 3:  Loss: 0.9198631644248962, Accuracy: 0.684999942779541\n",
      "Epoch 23, CIFAR-10 Batch 4:  Loss: 0.9037784337997437, Accuracy: 0.691399872303009\n",
      "Epoch 23, CIFAR-10 Batch 5:  Loss: 0.9207599759101868, Accuracy: 0.6871998310089111\n",
      "Epoch 24, CIFAR-10 Batch 1:  Loss: 0.9091211557388306, Accuracy: 0.6897998452186584\n",
      "Epoch 24, CIFAR-10 Batch 2:  Loss: 0.9566531777381897, Accuracy: 0.6767998933792114\n",
      "Epoch 24, CIFAR-10 Batch 3:  Loss: 0.9308754205703735, Accuracy: 0.6807998418807983\n",
      "Epoch 24, CIFAR-10 Batch 4:  Loss: 0.9813442826271057, Accuracy: 0.6727998852729797\n",
      "Epoch 24, CIFAR-10 Batch 5:  Loss: 0.9027204513549805, Accuracy: 0.691399872303009\n",
      "Epoch 25, CIFAR-10 Batch 1:  Loss: 0.8922648429870605, Accuracy: 0.6949998140335083\n",
      "Epoch 25, CIFAR-10 Batch 2:  Loss: 0.9185040593147278, Accuracy: 0.6861999034881592\n",
      "Epoch 25, CIFAR-10 Batch 3:  Loss: 0.905989408493042, Accuracy: 0.693199872970581\n",
      "Epoch 25, CIFAR-10 Batch 4:  Loss: 0.9352712631225586, Accuracy: 0.6873999238014221\n",
      "Epoch 25, CIFAR-10 Batch 5:  Loss: 0.9089078903198242, Accuracy: 0.6909998655319214\n",
      "Epoch 26, CIFAR-10 Batch 1:  Loss: 0.899162232875824, Accuracy: 0.6965998411178589\n",
      "Epoch 26, CIFAR-10 Batch 2:  Loss: 0.949884831905365, Accuracy: 0.6805998682975769\n",
      "Epoch 26, CIFAR-10 Batch 3:  Loss: 0.9002236723899841, Accuracy: 0.6981998682022095\n",
      "Epoch 26, CIFAR-10 Batch 4:  Loss: 0.9866824150085449, Accuracy: 0.6721998453140259\n",
      "Epoch 26, CIFAR-10 Batch 5:  Loss: 0.9333665370941162, Accuracy: 0.6909998655319214\n",
      "Epoch 27, CIFAR-10 Batch 1:  Loss: 0.9012236595153809, Accuracy: 0.6969998478889465\n",
      "Epoch 27, CIFAR-10 Batch 2:  Loss: 0.9531580209732056, Accuracy: 0.6861999034881592\n",
      "Epoch 27, CIFAR-10 Batch 3:  Loss: 0.9012408256530762, Accuracy: 0.6935998201370239\n",
      "Epoch 27, CIFAR-10 Batch 4:  Loss: 0.9494924545288086, Accuracy: 0.6771998405456543\n",
      "Epoch 27, CIFAR-10 Batch 5:  Loss: 0.9574943780899048, Accuracy: 0.6855998635292053\n",
      "Epoch 28, CIFAR-10 Batch 1:  Loss: 0.9262036085128784, Accuracy: 0.6937999129295349\n",
      "Epoch 28, CIFAR-10 Batch 2:  Loss: 0.9552040100097656, Accuracy: 0.68479984998703\n",
      "Epoch 28, CIFAR-10 Batch 3:  Loss: 0.9206975698471069, Accuracy: 0.695999801158905\n",
      "Epoch 28, CIFAR-10 Batch 4:  Loss: 0.9642505645751953, Accuracy: 0.6805998682975769\n",
      "Epoch 28, CIFAR-10 Batch 5:  Loss: 0.9265701770782471, Accuracy: 0.6963998675346375\n",
      "Epoch 29, CIFAR-10 Batch 1:  Loss: 0.9157662391662598, Accuracy: 0.6911998987197876\n",
      "Epoch 29, CIFAR-10 Batch 2:  Loss: 0.960634171962738, Accuracy: 0.693199872970581\n",
      "Epoch 29, CIFAR-10 Batch 3:  Loss: 0.9088124632835388, Accuracy: 0.7055997848510742\n",
      "Epoch 29, CIFAR-10 Batch 4:  Loss: 0.9340643882751465, Accuracy: 0.6855998635292053\n",
      "Epoch 29, CIFAR-10 Batch 5:  Loss: 0.9465944170951843, Accuracy: 0.6865999102592468\n",
      "Epoch 30, CIFAR-10 Batch 1:  Loss: 0.9275345206260681, Accuracy: 0.6967998743057251\n",
      "Epoch 30, CIFAR-10 Batch 2:  Loss: 0.9564997553825378, Accuracy: 0.693199872970581\n",
      "Epoch 30, CIFAR-10 Batch 3:  Loss: 0.9233694672584534, Accuracy: 0.6963998675346375\n",
      "Epoch 30, CIFAR-10 Batch 4:  Loss: 0.916709303855896, Accuracy: 0.7005998492240906\n",
      "Epoch 30, CIFAR-10 Batch 5:  Loss: 0.9477314949035645, Accuracy: 0.6901998519897461\n"
     ]
    }
   ],
   "source": [
    "\"\"\"\n",
    "DON'T MODIFY ANYTHING IN THIS CELL\n",
    "\"\"\"\n",
    "save_model_path = './image_classification'\n",
    "\n",
    "print('Training...')\n",
    "with tf.Session() as sess:\n",
    "    # Initializing the variables\n",
    "    sess.run(tf.global_variables_initializer())\n",
    "    \n",
    "    # Training cycle\n",
    "    for epoch in range(epochs):\n",
    "        # Loop over all batches\n",
    "        n_batches = 5\n",
    "        for batch_i in range(1, n_batches + 1):\n",
    "            for batch_features, batch_labels in helper.load_preprocess_training_batch(batch_i, batch_size):\n",
    "                train_neural_network(sess, optimizer, keep_probability, batch_features, batch_labels)\n",
    "            print('Epoch {:>2}, CIFAR-10 Batch {}:  '.format(epoch + 1, batch_i), end='')\n",
    "            print_stats(sess, batch_features, batch_labels, cost, accuracy)\n",
    "            \n",
    "    # Save Model\n",
    "    saver = tf.train.Saver()\n",
    "    save_path = saver.save(sess, save_model_path)"
   ]
  },
  {
   "cell_type": "markdown",
   "metadata": {
    "deletable": true,
    "editable": true
   },
   "source": [
    "# Checkpoint\n",
    "The model has been saved to disk.\n",
    "## Test Model\n",
    "Test your model against the test dataset.  This will be your final accuracy. You should have an accuracy greater than 50%. If you don't, keep tweaking the model architecture and parameters."
   ]
  },
  {
   "cell_type": "code",
   "execution_count": 53,
   "metadata": {
    "collapsed": false,
    "deletable": true,
    "editable": true
   },
   "outputs": [
    {
     "name": "stdout",
     "output_type": "stream",
     "text": [
      "Testing Accuracy: 0.6818359375\n",
      "\n"
     ]
    },
    {
     "data": {
      "image/png": "[encoded data removed]",
      "text/plain": [
       "<matplotlib.figure.Figure at 0x7fea93f2bac8>"
      ]
     },
     "metadata": {
      "image/png": {
       "height": 319,
       "width": 355
      }
     },
     "output_type": "display_data"
    }
   ],
   "source": [
    "\"\"\"\n",
    "DON'T MODIFY ANYTHING IN THIS CELL\n",
    "\"\"\"\n",
    "%matplotlib inline\n",
    "%config InlineBackend.figure_format = 'retina'\n",
    "\n",
    "import tensorflow as tf\n",
    "import pickle\n",
    "import helper\n",
    "import random\n",
    "\n",
    "# Set batch size if not already set\n",
    "try:\n",
    "    if batch_size:\n",
    "        pass\n",
    "except NameError:\n",
    "    batch_size = 64\n",
    "\n",
    "save_model_path = './image_classification'\n",
    "n_samples = 4\n",
    "top_n_predictions = 3\n",
    "\n",
    "def test_model():\n",
    "    \"\"\"\n",
    "    Test the saved model against the test dataset\n",
    "    \"\"\"\n",
    "\n",
    "    test_features, test_labels = pickle.load(open('preprocess_training.p', mode='rb'))\n",
    "    loaded_graph = tf.Graph()\n",
    "\n",
    "    with tf.Session(graph=loaded_graph) as sess:\n",
    "        # Load model\n",
    "        loader = tf.train.import_meta_graph(save_model_path + '.meta')\n",
    "        loader.restore(sess, save_model_path)\n",
    "\n",
    "        # Get Tensors from loaded model\n",
    "        loaded_x = loaded_graph.get_tensor_by_name('x:0')\n",
    "        loaded_y = loaded_graph.get_tensor_by_name('y:0')\n",
    "        loaded_keep_prob = loaded_graph.get_tensor_by_name('keep_prob:0')\n",
    "        loaded_logits = loaded_graph.get_tensor_by_name('logits:0')\n",
    "        loaded_acc = loaded_graph.get_tensor_by_name('accuracy:0')\n",
    "        \n",
    "        # Get accuracy in batches for memory limitations\n",
    "        test_batch_acc_total = 0\n",
    "        test_batch_count = 0\n",
    "        \n",
    "        for train_feature_batch, train_label_batch in helper.batch_features_labels(test_features, test_labels, batch_size):\n",
    "            test_batch_acc_total += sess.run(\n",
    "                loaded_acc,\n",
    "                feed_dict={loaded_x: train_feature_batch, loaded_y: train_label_batch, loaded_keep_prob: 1.0})\n",
    "            test_batch_count += 1\n",
    "\n",
    "        print('Testing Accuracy: {}\\n'.format(test_batch_acc_total/test_batch_count))\n",
    "\n",
    "        # Print Random Samples\n",
    "        random_test_features, random_test_labels = tuple(zip(*random.sample(list(zip(test_features, test_labels)), n_samples)))\n",
    "        random_test_predictions = sess.run(\n",
    "            tf.nn.top_k(tf.nn.softmax(loaded_logits), top_n_predictions),\n",
    "            feed_dict={loaded_x: random_test_features, loaded_y: random_test_labels, loaded_keep_prob: 1.0})\n",
    "        helper.display_image_predictions(random_test_features, random_test_labels, random_test_predictions)\n",
    "\n",
    "\n",
    "test_model()"
   ]
  },
  {
   "cell_type": "markdown",
   "metadata": {
    "deletable": true,
    "editable": true
   },
   "source": [
    "## Why 50-70% Accuracy?\n",
    "You might be wondering why you can't get an accuracy any higher. First things first, 50% isn't bad for a simple CNN.  Pure guessing would get you 10% accuracy. However, you might notice people are getting scores [well above 70%](http://rodrigob.github.io/are_we_there_yet/build/classification_datasets_results.html#43494641522d3130).  That's because we haven't taught you all there is to know about neural networks. We still need to cover a few more techniques.\n",
    "## Submitting This Project\n",
    "When submitting this project, make sure to run all the cells before saving the notebook.  Save the notebook file as \"dlnd_image_classification.ipynb\" and save it as a HTML file under \"File\" -> \"Download as\".  Include the \"helper.py\" and \"problem_unittests.py\" files in your submission."
   ]
  }
 ],
 "metadata": {
  "kernelspec": {
   "display_name": "Python 3",
   "language": "python",
   "name": "python3"
  },
  "language_info": {
   "codemirror_mode": {
    "name": "ipython",
    "version": 3
   },
   "file_extension": ".py",
   "mimetype": "text/x-python",
   "name": "python",
   "nbconvert_exporter": "python",
   "pygments_lexer": "ipython3",
   "version": "3.5.2"
  },
  "widgets": {
   "state": {},
   "version": "1.1.2"
  }
 },
 "nbformat": 4,
 "nbformat_minor": 0
}
